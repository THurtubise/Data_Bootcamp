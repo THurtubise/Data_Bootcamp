{
 "cells": [
  {
   "cell_type": "markdown",
   "metadata": {},
   "source": [
    "# Data Bootcamp Midterm Preparation"
   ]
  },
  {
   "cell_type": "markdown",
   "metadata": {},
   "source": [
    "## Class 1 - September 5th - Introduction: Data + Python = Magic!"
   ]
  },
  {
   "cell_type": "markdown",
   "metadata": {},
   "source": [
    "### Mathematical Functions and Variable Assignment"
   ]
  },
  {
   "cell_type": "code",
   "execution_count": 2,
   "metadata": {},
   "outputs": [
    {
     "data": {
      "text/plain": [
       "1250.0"
      ]
     },
     "execution_count": 2,
     "metadata": {},
     "output_type": "execute_result"
    }
   ],
   "source": [
    "x = 5 #Variable Assignment, also note that equals sign does not mean equal\n",
    "y = 5\n",
    "dog_1 = 'corgi' #Variables don't need to be single letters, they can be text\n",
    "x + 5 #Addition\n",
    "x - 5 #Subtraction\n",
    "x * 5 #Multiplication\n",
    "x / 5 #Division\n",
    "x ** 5 #Exponents\n",
    "x % 5 #Remainder of division by the latter value\n",
    "x // 5 #Rounding down greatest integer division\n",
    "(x**5)*(.4) #Parentheses work mathematically"
   ]
  },
  {
   "cell_type": "code",
   "execution_count": 4,
   "metadata": {},
   "outputs": [
    {
     "data": {
      "text/plain": [
       "(5, 5)"
      ]
     },
     "execution_count": 4,
     "metadata": {},
     "output_type": "execute_result"
    }
   ],
   "source": [
    "x,y #single cell variable pair printing"
   ]
  },
  {
   "cell_type": "code",
   "execution_count": 5,
   "metadata": {},
   "outputs": [
    {
     "name": "stdout",
     "output_type": "stream",
     "text": [
      "5\n"
     ]
    }
   ],
   "source": [
    "print(x) #print function"
   ]
  },
  {
   "cell_type": "code",
   "execution_count": 6,
   "metadata": {},
   "outputs": [
    {
     "name": "stdout",
     "output_type": "stream",
     "text": [
      "\n",
      "What version of Python?\n",
      "3.6.5 |Anaconda, Inc.| (default, Mar 29 2018, 13:32:41) [MSC v.1900 64 bit (AMD64)]\n",
      "\n",
      "Congratulations, you have Python 3!\n"
     ]
    }
   ],
   "source": [
    "import sys      # import system module (don't ask)\n",
    "print('\\nWhat version of Python?\\n', sys.version, '\\n', sep='')\n",
    "if float(sys.version_info[0]) < 3.0:\n",
    "    raise Exception('Program halted, old version of Python. \\n',\n",
    "                     'Sorry, you need to install Anaconda again.')\n",
    "else:\n",
    "    print('Congratulations, you have Python 3!')"
   ]
  },
  {
   "cell_type": "code",
   "execution_count": 8,
   "metadata": {},
   "outputs": [],
   "source": [
    "#x_1=(((b*(-1))+((b**2)-(4*a*c))**(1/2))/(2*a))\n",
    "#x_2=(((b*(-1))-((b**2)-(4*a*c))**(1/2))/(2*a))\n",
    "#print(x_1)\n",
    "#print(x_2)\n",
    "#Quadratic Formula, just as a bonus"
   ]
  },
  {
   "cell_type": "markdown",
   "metadata": {},
   "source": [
    "Downloading a Jupyter Notebook from Github\n",
    "\n",
    "    First go to the notebook github page and then click on Raw.\n",
    "\n",
    "    Then, press command+s (ctrl+s if you are using windows) to save it as .ipynb.\n",
    "\n",
    "    Go to location where you saved .ipynb file.\n",
    "\n",
    "    Open file, you will see the code."
   ]
  },
  {
   "cell_type": "markdown",
   "metadata": {},
   "source": [
    "## Class 2 - September 10th - Introduction(TF's Recitation)"
   ]
  },
  {
   "cell_type": "markdown",
   "metadata": {},
   "source": [
    "There was nothing significantly new on this lecture day, as far as I can recall. Just more on basic functions and variable assignment."
   ]
  },
  {
   "cell_type": "markdown",
   "metadata": {},
   "source": [
    "## Class 3 - September 12th - Python Fundamentals 1"
   ]
  },
  {
   "cell_type": "markdown",
   "metadata": {},
   "source": [
    "Reminder: Cells are not linked in python, so you can reassign variables using the same variable plus some other value. The output value will totally depend on the order that you run the cell."
   ]
  },
  {
   "cell_type": "code",
   "execution_count": 9,
   "metadata": {},
   "outputs": [],
   "source": [
    "#Example of the principle"
   ]
  },
  {
   "cell_type": "code",
   "execution_count": 10,
   "metadata": {},
   "outputs": [],
   "source": [
    "x = 3"
   ]
  },
  {
   "cell_type": "code",
   "execution_count": 11,
   "metadata": {},
   "outputs": [],
   "source": [
    "x= x+3"
   ]
  },
  {
   "cell_type": "code",
   "execution_count": 12,
   "metadata": {},
   "outputs": [
    {
     "data": {
      "text/plain": [
       "6"
      ]
     },
     "execution_count": 12,
     "metadata": {},
     "output_type": "execute_result"
    }
   ],
   "source": [
    "x"
   ]
  },
  {
   "cell_type": "code",
   "execution_count": 13,
   "metadata": {},
   "outputs": [],
   "source": [
    "y = x"
   ]
  },
  {
   "cell_type": "code",
   "execution_count": 14,
   "metadata": {},
   "outputs": [],
   "source": [
    "x = x+3"
   ]
  },
  {
   "cell_type": "code",
   "execution_count": 15,
   "metadata": {},
   "outputs": [
    {
     "name": "stdout",
     "output_type": "stream",
     "text": [
      "6\n",
      "9\n"
     ]
    }
   ],
   "source": [
    "print(y)\n",
    "print(x)"
   ]
  },
  {
   "cell_type": "code",
   "execution_count": 16,
   "metadata": {},
   "outputs": [
    {
     "name": "stdout",
     "output_type": "stream",
     "text": [
      "9||||6\n"
     ]
    }
   ],
   "source": [
    "print(x,y,sep='||||') #seperation notation in print function"
   ]
  },
  {
   "cell_type": "code",
   "execution_count": 21,
   "metadata": {},
   "outputs": [],
   "source": [
    "print?\n",
    "#? provides information about any function or method in python"
   ]
  },
  {
   "cell_type": "code",
   "execution_count": 22,
   "metadata": {},
   "outputs": [
    {
     "data": {
      "text/plain": [
       "str"
      ]
     },
     "execution_count": 22,
     "metadata": {},
     "output_type": "execute_result"
    }
   ],
   "source": [
    "type('hello') #The type function. Returns back the type of a given object, like lists, strings, tuples, dictionaries, floats, and integers.\n",
    "#There are more types outside of base python, like series and dataframes in pandas"
   ]
  },
  {
   "cell_type": "code",
   "execution_count": 23,
   "metadata": {},
   "outputs": [],
   "source": [
    "z = 'hello' #variables can be assigned to strings, and can be concatenated"
   ]
  },
  {
   "cell_type": "code",
   "execution_count": 24,
   "metadata": {},
   "outputs": [
    {
     "data": {
      "text/plain": [
       "'hellohello'"
      ]
     },
     "execution_count": 24,
     "metadata": {},
     "output_type": "execute_result"
    }
   ],
   "source": [
    "z+z"
   ]
  },
  {
   "cell_type": "code",
   "execution_count": 25,
   "metadata": {},
   "outputs": [
    {
     "data": {
      "text/plain": [
       "'hellohellohellohellohellohellohellohellohellohello'"
      ]
     },
     "execution_count": 25,
     "metadata": {},
     "output_type": "execute_result"
    }
   ],
   "source": [
    "z*10"
   ]
  },
  {
   "cell_type": "code",
   "execution_count": 27,
   "metadata": {},
   "outputs": [
    {
     "ename": "TypeError",
     "evalue": "must be str, not int",
     "output_type": "error",
     "traceback": [
      "\u001b[1;31m---------------------------------------------------------------------------\u001b[0m",
      "\u001b[1;31mTypeError\u001b[0m                                 Traceback (most recent call last)",
      "\u001b[1;32m<ipython-input-27-acbccef48ad1>\u001b[0m in \u001b[0;36m<module>\u001b[1;34m()\u001b[0m\n\u001b[1;32m----> 1\u001b[1;33m \u001b[0mz\u001b[0m\u001b[1;33m+\u001b[0m\u001b[0mx\u001b[0m \u001b[1;31m#strings cannot be concatenated with numbers\u001b[0m\u001b[1;33m\u001b[0m\u001b[0m\n\u001b[0m",
      "\u001b[1;31mTypeError\u001b[0m: must be str, not int"
     ]
    }
   ],
   "source": [
    "z+x #strings cannot be concatenated with numbers"
   ]
  },
  {
   "cell_type": "code",
   "execution_count": 28,
   "metadata": {},
   "outputs": [],
   "source": [
    "h = '1234' #Numbers can be strings"
   ]
  },
  {
   "cell_type": "code",
   "execution_count": 30,
   "metadata": {},
   "outputs": [
    {
     "name": "stdout",
     "output_type": "stream",
     "text": [
      "Thomas Hurtubise\n"
     ]
    }
   ],
   "source": [
    "first = 'Thomas'\n",
    "last = 'Hurtubise'\n",
    "full=first+' '+last\n",
    "print(full)\n",
    "#full name code"
   ]
  },
  {
   "cell_type": "code",
   "execution_count": 31,
   "metadata": {},
   "outputs": [],
   "source": [
    "#Including apostrophes and quotation marks in strings:\n",
    "p = \"what's up\"\n",
    "q = \"\"\" he said \"what's up?\" \"\"\"\n"
   ]
  },
  {
   "cell_type": "code",
   "execution_count": 32,
   "metadata": {},
   "outputs": [
    {
     "name": "stdout",
     "output_type": "stream",
     "text": [
      "what's up\n",
      " he said \"what's up?\" \n"
     ]
    }
   ],
   "source": [
    "print(p)\n",
    "print(q)"
   ]
  },
  {
   "cell_type": "code",
   "execution_count": 33,
   "metadata": {},
   "outputs": [
    {
     "name": "stdout",
     "output_type": "stream",
     "text": [
      "<class 'list'>\n"
     ]
    },
    {
     "data": {
      "text/plain": [
       "[0, 5, 6, 22]"
      ]
     },
     "execution_count": 33,
     "metadata": {},
     "output_type": "execute_result"
    }
   ],
   "source": [
    "#Lists\n",
    "#Setting up a list\n",
    "list1=[0,5,6,22]\n",
    "print(type(list1))\n",
    "list1"
   ]
  },
  {
   "cell_type": "code",
   "execution_count": 34,
   "metadata": {},
   "outputs": [],
   "source": [
    "#Lists can have non-numerical inputs\n",
    "list2 = [75,'porkchops',4.3]"
   ]
  },
  {
   "cell_type": "code",
   "execution_count": 35,
   "metadata": {},
   "outputs": [
    {
     "data": {
      "text/plain": [
       "[[0, 5, 6, 22], [75, 'porkchops', 4.3]]"
      ]
     },
     "execution_count": 35,
     "metadata": {},
     "output_type": "execute_result"
    }
   ],
   "source": [
    "#lists can contain lists\n",
    "list3 = [list1,list2]\n",
    "list3"
   ]
  },
  {
   "cell_type": "code",
   "execution_count": 36,
   "metadata": {},
   "outputs": [
    {
     "data": {
      "text/plain": [
       "[0, 5, 6, 22, 75, 'porkchops', 4.3]"
      ]
     },
     "execution_count": 36,
     "metadata": {},
     "output_type": "execute_result"
    }
   ],
   "source": [
    "#we can add lists into a single list\n",
    "list1+list2"
   ]
  },
  {
   "cell_type": "code",
   "execution_count": 37,
   "metadata": {},
   "outputs": [
    {
     "data": {
      "text/plain": [
       "tuple"
      ]
     },
     "execution_count": 37,
     "metadata": {},
     "output_type": "execute_result"
    }
   ],
   "source": [
    "#making a tuple\n",
    "type((0,4,5))"
   ]
  },
  {
   "cell_type": "code",
   "execution_count": 38,
   "metadata": {},
   "outputs": [],
   "source": [
    "#making a dictionary with key:value pairs\n",
    "bsch = {'nyu':'stern','penn':'wharton','mit':'sloan'}"
   ]
  },
  {
   "cell_type": "code",
   "execution_count": 39,
   "metadata": {},
   "outputs": [
    {
     "data": {
      "text/plain": [
       "'sloan'"
      ]
     },
     "execution_count": 39,
     "metadata": {},
     "output_type": "execute_result"
    }
   ],
   "source": [
    "#calling a value using a dictionary key. Note we cannot call the key with the value.\n",
    "bsch['mit']"
   ]
  },
  {
   "cell_type": "code",
   "execution_count": 41,
   "metadata": {},
   "outputs": [],
   "source": [
    "bsch['michigan']='ross'\n",
    "# how to add to dictionary. Also works with existing keys to reassign the values"
   ]
  },
  {
   "cell_type": "code",
   "execution_count": 42,
   "metadata": {},
   "outputs": [],
   "source": [
    "bsch['nyu']=['cas','stern'] #Dictionary values can be lists"
   ]
  },
  {
   "cell_type": "code",
   "execution_count": 43,
   "metadata": {},
   "outputs": [
    {
     "data": {
      "text/plain": [
       "'2000'"
      ]
     },
     "execution_count": 43,
     "metadata": {},
     "output_type": "execute_result"
    }
   ],
   "source": [
    "#type change functions\n",
    "x = 2000\n",
    "str(x) #changes x to a string (does not store as x)"
   ]
  },
  {
   "cell_type": "code",
   "execution_count": 44,
   "metadata": {},
   "outputs": [
    {
     "data": {
      "text/plain": [
       "int"
      ]
     },
     "execution_count": 44,
     "metadata": {},
     "output_type": "execute_result"
    }
   ],
   "source": [
    "type(x)"
   ]
  },
  {
   "cell_type": "code",
   "execution_count": 45,
   "metadata": {},
   "outputs": [
    {
     "data": {
      "text/plain": [
       "str"
      ]
     },
     "execution_count": 45,
     "metadata": {},
     "output_type": "execute_result"
    }
   ],
   "source": [
    "type(str(x))"
   ]
  },
  {
   "cell_type": "code",
   "execution_count": 46,
   "metadata": {},
   "outputs": [
    {
     "data": {
      "text/plain": [
       "2000"
      ]
     },
     "execution_count": 46,
     "metadata": {},
     "output_type": "execute_result"
    }
   ],
   "source": [
    "int(str(x)) #integer function to change something to an integer"
   ]
  },
  {
   "cell_type": "code",
   "execution_count": 47,
   "metadata": {},
   "outputs": [
    {
     "data": {
      "text/plain": [
       "'333'"
      ]
     },
     "execution_count": 47,
     "metadata": {},
     "output_type": "execute_result"
    }
   ],
   "source": [
    "z=str(int(int(x)/y))\n",
    "z #produces largest whole integer resulting from the division as a string"
   ]
  },
  {
   "cell_type": "code",
   "execution_count": 48,
   "metadata": {},
   "outputs": [
    {
     "data": {
      "text/plain": [
       "'333'"
      ]
     },
     "execution_count": 48,
     "metadata": {},
     "output_type": "execute_result"
    }
   ],
   "source": [
    "z=str(int(x)//y)\n",
    "z #another way of producing the largest whole integer resulting from the division as a string"
   ]
  },
  {
   "cell_type": "code",
   "execution_count": 49,
   "metadata": {},
   "outputs": [
    {
     "data": {
      "text/plain": [
       "<function round>"
      ]
     },
     "execution_count": 49,
     "metadata": {},
     "output_type": "execute_result"
    }
   ],
   "source": [
    "round #the round function can be used to specify exactly how many decimal places we want to include from a function"
   ]
  },
  {
   "cell_type": "code",
   "execution_count": 50,
   "metadata": {},
   "outputs": [],
   "source": [
    "year = '2018'\n",
    "nextyear = str(int(year)+1) #Year and next year code"
   ]
  },
  {
   "cell_type": "code",
   "execution_count": 51,
   "metadata": {},
   "outputs": [
    {
     "name": "stdout",
     "output_type": "stream",
     "text": [
      "Welcome to Data Bootcamp!\n",
      "Today is:  2018-10-20\n"
     ]
    }
   ],
   "source": [
    "#Date and time code\n",
    "import datetime as dt\n",
    "print('Welcome to Data Bootcamp!')\n",
    "print('Today is: ', dt.date.today())"
   ]
  },
  {
   "cell_type": "markdown",
   "metadata": {},
   "source": [
    "Bold and italics. If we put a word or phrase between double asterisks, it's displayed in bold. Thus **bold** displays as bold. If we use single asterisks, we get italics: *italics* displays as italics.\n",
    "\n",
    "Bullet lists. If we want a list of items marked by bullets, we start with a blank line and mark each item with an asterisk on a new line:\n",
    "\n",
    "* something\n",
    "* something else\n",
    "Try it and see.\n",
    "\n",
    "Links. We construct a link with the text in square brackets and the url in parentheses immediately afterwards. Try this one:\n",
    "\n",
    "[Data Bootcamp course](http://nyu.data-bootcamp.com/)\n",
    "\n",
    "Just click in to see the actual code"
   ]
  },
  {
   "cell_type": "markdown",
   "metadata": {},
   "source": [
    "name error: we have used a variable or function that we have not defined so that python doesn't understand."
   ]
  },
  {
   "cell_type": "markdown",
   "metadata": {},
   "source": [
    "That's the general structure of functions in Python: a function name (in this case print) followed by inputs (\"arguments\" or \"parameters\") in parentheses that are separated by commas. "
   ]
  },
  {
   "cell_type": "code",
   "execution_count": 52,
   "metadata": {},
   "outputs": [
    {
     "name": "stdout",
     "output_type": "stream",
     "text": [
      "The value of z is  333\n"
     ]
    }
   ],
   "source": [
    "message = 'The value of z is '\n",
    "print(message, z) #using print for readability"
   ]
  },
  {
   "cell_type": "code",
   "execution_count": 53,
   "metadata": {},
   "outputs": [
    {
     "name": "stdout",
     "output_type": "stream",
     "text": [
      "\n",
      "Four score and seven years ago\n",
      "Our fathers brought forth. \n"
     ]
    }
   ],
   "source": [
    "longstring = \"\"\"\n",
    "Four score and seven years ago\n",
    "Our fathers brought forth. \"\"\"\n",
    "print(longstring) #Triple quotes can also define multi-line strings"
   ]
  },
  {
   "cell_type": "markdown",
   "metadata": {},
   "source": [
    "Lists are one of the fundamental Python data structures, a term that means a specific organization of data. \n",
    "\n",
    "And a list is ordered, meaning that each item has a particular position\n",
    "\n",
    "Tuples are ordered collections of things in parentheses separated by commas. They're like lists but the syntax is different (parentheses rather than square brackets) and they can't be changed (experts would say they're \"immutable\"). We won't use them much but you're likely to run across them now and then in others' code."
   ]
  },
  {
   "cell_type": "markdown",
   "metadata": {},
   "source": [
    "In dictionaries,  The keys must be unique, but the values need not be.\n"
   ]
  },
  {
   "cell_type": "code",
   "execution_count": 55,
   "metadata": {},
   "outputs": [
    {
     "ename": "TypeError",
     "evalue": "object of type 'float' has no len()",
     "output_type": "error",
     "traceback": [
      "\u001b[1;31m---------------------------------------------------------------------------\u001b[0m",
      "\u001b[1;31mTypeError\u001b[0m                                 Traceback (most recent call last)",
      "\u001b[1;32m<ipython-input-55-29b69e86ab94>\u001b[0m in \u001b[0;36m<module>\u001b[1;34m()\u001b[0m\n\u001b[1;32m----> 1\u001b[1;33m \u001b[0mprint\u001b[0m\u001b[1;33m(\u001b[0m\u001b[0mlen\u001b[0m\u001b[1;33m(\u001b[0m\u001b[1;36m12.24\u001b[0m\u001b[1;33m)\u001b[0m\u001b[1;33m)\u001b[0m\u001b[1;33m\u001b[0m\u001b[0m\n\u001b[0m\u001b[0;32m      2\u001b[0m \u001b[0mprint\u001b[0m\u001b[1;33m(\u001b[0m\u001b[0mlen\u001b[0m\u001b[1;33m(\u001b[0m\u001b[1;34m'12.24'\u001b[0m\u001b[1;33m)\u001b[0m\u001b[1;33m)\u001b[0m \u001b[1;31m#The len function tells us the length of an object\u001b[0m\u001b[1;33m\u001b[0m\u001b[0m\n",
      "\u001b[1;31mTypeError\u001b[0m: object of type 'float' has no len()"
     ]
    }
   ],
   "source": [
    "print(len(12.24))\n",
    "print(len('12.24')) #The len function tells us the length of an object"
   ]
  },
  {
   "cell_type": "code",
   "execution_count": 56,
   "metadata": {},
   "outputs": [
    {
     "name": "stdout",
     "output_type": "stream",
     "text": [
      "5\n"
     ]
    }
   ],
   "source": [
    "print(len('12.24')) #The len function tells us the length of an object"
   ]
  },
  {
   "cell_type": "code",
   "execution_count": 57,
   "metadata": {},
   "outputs": [
    {
     "data": {
      "text/plain": [
       "1.0"
      ]
     },
     "execution_count": 57,
     "metadata": {},
     "output_type": "execute_result"
    }
   ],
   "source": [
    "float(1) #The float function also works to convert types"
   ]
  },
  {
   "cell_type": "code",
   "execution_count": 58,
   "metadata": {},
   "outputs": [
    {
     "data": {
      "text/plain": [
       "['a', 'b', 'c']"
      ]
     },
     "execution_count": 58,
     "metadata": {},
     "output_type": "execute_result"
    }
   ],
   "source": [
    "st1 = 'abc'\n",
    "list4 = list(st1)\n",
    "list4 #The list function"
   ]
  },
  {
   "cell_type": "markdown",
   "metadata": {},
   "source": [
    "Name Error. It happens when we use something not defined, it could be a variable or a function. \n",
    "\n",
    "Type Error. This one happens all the time too. It happens when an inappropriate operation or function is applied to that specific data type. \n",
    "\n",
    "Key Error. Python raises a KeyError whenever a dict() object is requested (using the format a = adict[key]) and the key is not in the dictionary.\n",
    "\n",
    "Invalid Syntax. Syntax errors can be detected before your program begins to run. These types of errors are usually typing mistakes (fat fingers), but might be hard to find out at first\n",
    "\n"
   ]
  },
  {
   "cell_type": "markdown",
   "metadata": {},
   "source": [
    "## Class 4 - September 17th - Python Fundamentals 2"
   ]
  },
  {
   "cell_type": "code",
   "execution_count": 59,
   "metadata": {},
   "outputs": [
    {
     "data": {
      "text/plain": [
       "False"
      ]
     },
     "execution_count": 59,
     "metadata": {},
     "output_type": "execute_result"
    }
   ],
   "source": [
    "#Boolean Logic\n",
    "5==4 #using == will check the equivalence of both sides, and return a true or false"
   ]
  },
  {
   "cell_type": "code",
   "execution_count": 60,
   "metadata": {},
   "outputs": [
    {
     "data": {
      "text/plain": [
       "True"
      ]
     },
     "execution_count": 60,
     "metadata": {},
     "output_type": "execute_result"
    }
   ],
   "source": [
    "5==(10/2)"
   ]
  },
  {
   "cell_type": "code",
   "execution_count": 61,
   "metadata": {},
   "outputs": [
    {
     "data": {
      "text/plain": [
       "bool"
      ]
     },
     "execution_count": 61,
     "metadata": {},
     "output_type": "execute_result"
    }
   ],
   "source": [
    "type(5==4)"
   ]
  },
  {
   "cell_type": "code",
   "execution_count": 62,
   "metadata": {},
   "outputs": [
    {
     "data": {
      "text/plain": [
       "4"
      ]
     },
     "execution_count": 62,
     "metadata": {},
     "output_type": "execute_result"
    }
   ],
   "source": [
    "(5==5)+3 #Boolean True is equal to 1. Think like binary"
   ]
  },
  {
   "cell_type": "code",
   "execution_count": 64,
   "metadata": {},
   "outputs": [
    {
     "data": {
      "text/plain": [
       "3"
      ]
     },
     "execution_count": 64,
     "metadata": {},
     "output_type": "execute_result"
    }
   ],
   "source": [
    "(5==4)+3 #Boolean False equals 0"
   ]
  },
  {
   "cell_type": "code",
   "execution_count": 65,
   "metadata": {},
   "outputs": [
    {
     "name": "stdout",
     "output_type": "stream",
     "text": [
      "False\n",
      "True\n",
      "True\n",
      "True\n",
      "False\n"
     ]
    }
   ],
   "source": [
    "#Other self-explanatory boolean expressions (they do not have to be in print, that's just to show all results)\n",
    "print(5<4)\n",
    "print(5>4)\n",
    "print(5>=4)\n",
    "print(5!=4)\n",
    "print(not(5>4))"
   ]
  },
  {
   "cell_type": "code",
   "execution_count": 66,
   "metadata": {},
   "outputs": [
    {
     "name": "stdout",
     "output_type": "stream",
     "text": [
      "6 is greater than 5\n"
     ]
    }
   ],
   "source": [
    "#if elif and else conditional code example\n",
    "x=6\n",
    "if x>5:\n",
    "    print(x,'is greater than 5')\n",
    "elif x==5:\n",
    "    print(str(x)+' is equal to 5')\n",
    "elif x%2==0:\n",
    "    print('even')\n",
    "else:\n",
    "    print(str(x)+' is less than 5')\n",
    "#Remember, this code will print the first result that is true, so even if multiple conditions work, only one will result"
   ]
  },
  {
   "cell_type": "code",
   "execution_count": 67,
   "metadata": {},
   "outputs": [
    {
     "data": {
      "text/plain": [
       "'c'"
      ]
     },
     "execution_count": 67,
     "metadata": {},
     "output_type": "execute_result"
    }
   ],
   "source": [
    "#Slicing\n",
    "list1 = ['a','b','c','d','e']\n",
    "list1[2] #This will slice out the third object. Lists are indexed starting with 0"
   ]
  },
  {
   "cell_type": "code",
   "execution_count": 68,
   "metadata": {},
   "outputs": [
    {
     "data": {
      "text/plain": [
       "['c', 'd']"
      ]
     },
     "execution_count": 68,
     "metadata": {},
     "output_type": "execute_result"
    }
   ],
   "source": [
    "list1[2:4] #slices a range not inclusive of the final number"
   ]
  },
  {
   "cell_type": "code",
   "execution_count": 69,
   "metadata": {},
   "outputs": [
    {
     "data": {
      "text/plain": [
       "'e'"
      ]
     },
     "execution_count": 69,
     "metadata": {},
     "output_type": "execute_result"
    }
   ],
   "source": [
    "list1[-1] #slicing starting at the end of the list, there is no negative 0"
   ]
  },
  {
   "cell_type": "code",
   "execution_count": 70,
   "metadata": {},
   "outputs": [
    {
     "data": {
      "text/plain": [
       "['b', 'c', 'd']"
      ]
     },
     "execution_count": 70,
     "metadata": {},
     "output_type": "execute_result"
    }
   ],
   "source": [
    "list1[1:-1]"
   ]
  },
  {
   "cell_type": "code",
   "execution_count": 71,
   "metadata": {},
   "outputs": [
    {
     "data": {
      "text/plain": [
       "['a', 'b', 'c']"
      ]
     },
     "execution_count": 71,
     "metadata": {},
     "output_type": "execute_result"
    }
   ],
   "source": [
    "list1[:-2] #slices up to the -2 entry"
   ]
  },
  {
   "cell_type": "code",
   "execution_count": 72,
   "metadata": {},
   "outputs": [
    {
     "data": {
      "text/plain": [
       "['c', 'd', 'e']"
      ]
     },
     "execution_count": 72,
     "metadata": {},
     "output_type": "execute_result"
    }
   ],
   "source": [
    "list1[2:] #slices the third entry on"
   ]
  },
  {
   "cell_type": "code",
   "execution_count": 73,
   "metadata": {},
   "outputs": [],
   "source": [
    "hi = 'hello there'"
   ]
  },
  {
   "cell_type": "code",
   "execution_count": 74,
   "metadata": {},
   "outputs": [
    {
     "data": {
      "text/plain": [
       "'hello'"
      ]
     },
     "execution_count": 74,
     "metadata": {},
     "output_type": "execute_result"
    }
   ],
   "source": [
    "hi[:5] #slicing also works on strings"
   ]
  },
  {
   "cell_type": "code",
   "execution_count": 75,
   "metadata": {},
   "outputs": [
    {
     "data": {
      "text/plain": [
       "'heth'"
      ]
     },
     "execution_count": 75,
     "metadata": {},
     "output_type": "execute_result"
    }
   ],
   "source": [
    "hi[0:2]+hi[6:8] #we can concatenate slices"
   ]
  },
  {
   "cell_type": "code",
   "execution_count": 76,
   "metadata": {},
   "outputs": [],
   "source": [
    "#some methods"
   ]
  },
  {
   "cell_type": "code",
   "execution_count": 77,
   "metadata": {},
   "outputs": [
    {
     "data": {
      "text/plain": [
       "'HELLO THERE'"
      ]
     },
     "execution_count": 77,
     "metadata": {},
     "output_type": "execute_result"
    }
   ],
   "source": [
    "hi.upper() #method making strings all uppercase"
   ]
  },
  {
   "cell_type": "code",
   "execution_count": 78,
   "metadata": {},
   "outputs": [
    {
     "data": {
      "text/plain": [
       "'hello'"
      ]
     },
     "execution_count": 78,
     "metadata": {},
     "output_type": "execute_result"
    }
   ],
   "source": [
    "hi.split()[0] #method splitting strings into a list of the words in a string, which one can then slice"
   ]
  },
  {
   "cell_type": "code",
   "execution_count": 79,
   "metadata": {},
   "outputs": [
    {
     "data": {
      "text/plain": [
       "'there'"
      ]
     },
     "execution_count": 79,
     "metadata": {},
     "output_type": "execute_result"
    }
   ],
   "source": [
    "hi.split()[1]"
   ]
  },
  {
   "cell_type": "code",
   "execution_count": 80,
   "metadata": {},
   "outputs": [
    {
     "data": {
      "text/plain": [
       "4"
      ]
     },
     "execution_count": 80,
     "metadata": {},
     "output_type": "execute_result"
    }
   ],
   "source": [
    "hi.find('o') #method returning the first index number for a given character in a string"
   ]
  },
  {
   "cell_type": "code",
   "execution_count": 81,
   "metadata": {},
   "outputs": [
    {
     "data": {
      "text/plain": [
       "-1"
      ]
     },
     "execution_count": 81,
     "metadata": {},
     "output_type": "execute_result"
    }
   ],
   "source": [
    "hi.find('z') #this method returns -1 if there is none"
   ]
  },
  {
   "cell_type": "code",
   "execution_count": 82,
   "metadata": {},
   "outputs": [
    {
     "data": {
      "text/plain": [
       "2"
      ]
     },
     "execution_count": 82,
     "metadata": {},
     "output_type": "execute_result"
    }
   ],
   "source": [
    "hi.find('l')"
   ]
  },
  {
   "cell_type": "code",
   "execution_count": 83,
   "metadata": {},
   "outputs": [],
   "source": [
    "list1.reverse() #method that automatically reverses a list"
   ]
  },
  {
   "cell_type": "code",
   "execution_count": 84,
   "metadata": {},
   "outputs": [
    {
     "data": {
      "text/plain": [
       "['e', 'd', 'c', 'b', 'a']"
      ]
     },
     "execution_count": 84,
     "metadata": {},
     "output_type": "execute_result"
    }
   ],
   "source": [
    "list1"
   ]
  },
  {
   "cell_type": "code",
   "execution_count": 85,
   "metadata": {},
   "outputs": [
    {
     "data": {
      "text/plain": [
       "0"
      ]
     },
     "execution_count": 85,
     "metadata": {},
     "output_type": "execute_result"
    }
   ],
   "source": [
    "list1.index('e') #method returning the index number for a given item in a list"
   ]
  },
  {
   "cell_type": "code",
   "execution_count": 86,
   "metadata": {},
   "outputs": [
    {
     "name": "stdout",
     "output_type": "stream",
     "text": [
      "1\n"
     ]
    }
   ],
   "source": [
    "#Character in a string search code\n",
    "char = 'e'\n",
    "if hi.find(char)==-1:\n",
    "    print('not there')\n",
    "else:\n",
    "    print(hi.find(char))"
   ]
  },
  {
   "cell_type": "code",
   "execution_count": 87,
   "metadata": {},
   "outputs": [
    {
     "name": "stdout",
     "output_type": "stream",
     "text": [
      "E\n",
      "D\n",
      "C\n",
      "B\n",
      "A\n"
     ]
    }
   ],
   "source": [
    "#Loops\n",
    "#basic convention for for loops\n",
    "for i in list1:\n",
    "    print(i.upper())"
   ]
  },
  {
   "cell_type": "code",
   "execution_count": 88,
   "metadata": {},
   "outputs": [
    {
     "name": "stdout",
     "output_type": "stream",
     "text": [
      "H\n",
      "E\n",
      "L\n",
      "L\n",
      "O\n",
      " \n",
      "T\n",
      "H\n",
      "E\n",
      "R\n",
      "E\n"
     ]
    }
   ],
   "source": [
    "#For loops work on anything that is iterable, including strings\n",
    "for i in hi:\n",
    "    print(i.upper())"
   ]
  },
  {
   "cell_type": "code",
   "execution_count": 89,
   "metadata": {},
   "outputs": [
    {
     "name": "stdout",
     "output_type": "stream",
     "text": [
      "1\n",
      "8\n",
      "10\n"
     ]
    }
   ],
   "source": [
    "char = 'e'\n",
    "c=0\n",
    "for i in hi:\n",
    "    if i==char:\n",
    "        print(c)\n",
    "    c += 1\n",
    "#how to find the index number for all of a given character in a string"
   ]
  },
  {
   "cell_type": "code",
   "execution_count": 90,
   "metadata": {},
   "outputs": [
    {
     "name": "stdout",
     "output_type": "stream",
     "text": [
      "0\n",
      "1\n",
      "2\n",
      "3\n",
      "4\n",
      "5\n",
      "6\n",
      "7\n",
      "8\n",
      "9\n",
      "10\n"
     ]
    }
   ],
   "source": [
    "c=0\n",
    "for i in hi:\n",
    "    print(c)\n",
    "    c += 1\n",
    "#for loop producing every index number in the string"
   ]
  },
  {
   "cell_type": "code",
   "execution_count": 91,
   "metadata": {},
   "outputs": [
    {
     "name": "stdout",
     "output_type": "stream",
     "text": [
      "2 is even\n",
      "3 is odd\n",
      "4 is even\n",
      "5 is odd\n",
      "6 is even\n",
      "7 is odd\n",
      "8 is even\n",
      "9 is odd\n"
     ]
    }
   ],
   "source": [
    "#Shows off the range function, which is common in for loops. Range function also does not include final number\n",
    "for i in range(2,10):\n",
    "    if i%2==0:\n",
    "        print(i, 'is even')\n",
    "    else:\n",
    "        print(i, 'is odd')"
   ]
  },
  {
   "cell_type": "code",
   "execution_count": 92,
   "metadata": {},
   "outputs": [
    {
     "data": {
      "text/plain": [
       "True"
      ]
     },
     "execution_count": 92,
     "metadata": {},
     "output_type": "execute_result"
    }
   ],
   "source": [
    "'chase'>'bartleby'"
   ]
  },
  {
   "cell_type": "code",
   "execution_count": 94,
   "metadata": {},
   "outputs": [
    {
     "data": {
      "text/plain": [
       "False"
      ]
     },
     "execution_count": 94,
     "metadata": {},
     "output_type": "execute_result"
    }
   ],
   "source": [
    "'chase'>'spencer' #when comparing strings, the boolean expression compares the first letters to assess their value. S is a later letter, and has a higher value than c, meaning the expression is false "
   ]
  },
  {
   "cell_type": "markdown",
   "metadata": {},
   "source": [
    "https://en.wikipedia.org/wiki/List_of_Unicode_characters has the full list of values for characters"
   ]
  },
  {
   "cell_type": "code",
   "execution_count": 98,
   "metadata": {},
   "outputs": [
    {
     "data": {
      "text/plain": [
       "99"
      ]
     },
     "execution_count": 98,
     "metadata": {},
     "output_type": "execute_result"
    }
   ],
   "source": [
    "ord('c') #this function returns the unicode value for the letters and other characters"
   ]
  },
  {
   "cell_type": "code",
   "execution_count": 99,
   "metadata": {},
   "outputs": [
    {
     "data": {
      "text/plain": [
       "98"
      ]
     },
     "execution_count": 99,
     "metadata": {},
     "output_type": "execute_result"
    }
   ],
   "source": [
    "ord('b')"
   ]
  },
  {
   "cell_type": "code",
   "execution_count": 100,
   "metadata": {},
   "outputs": [
    {
     "data": {
      "text/plain": [
       "115"
      ]
     },
     "execution_count": 100,
     "metadata": {},
     "output_type": "execute_result"
    }
   ],
   "source": [
    "ord('s')"
   ]
  },
  {
   "cell_type": "code",
   "execution_count": 102,
   "metadata": {},
   "outputs": [
    {
     "ename": "SyntaxError",
     "evalue": "invalid syntax (<ipython-input-102-54418f1e35f0>, line 3)",
     "output_type": "error",
     "traceback": [
      "\u001b[1;36m  File \u001b[1;32m\"<ipython-input-102-54418f1e35f0>\"\u001b[1;36m, line \u001b[1;32m3\u001b[0m\n\u001b[1;33m    if:\u001b[0m\n\u001b[1;37m      ^\u001b[0m\n\u001b[1;31mSyntaxError\u001b[0m\u001b[1;31m:\u001b[0m invalid syntax\n"
     ]
    }
   ],
   "source": [
    "#General format for conditionals/ if else statements\n",
    "\n",
    "if:\n",
    "    print('if branch')             # do if true\n",
    "else:\n",
    "    print('else branch')           # do if false"
   ]
  },
  {
   "cell_type": "code",
   "execution_count": 103,
   "metadata": {},
   "outputs": [],
   "source": [
    "string_1 = 'this is a pretty long string that would be hard to index by hand' "
   ]
  },
  {
   "cell_type": "code",
   "execution_count": 106,
   "metadata": {},
   "outputs": [
    {
     "name": "stdout",
     "output_type": "stream",
     "text": [
      "t 0\n",
      "h 1\n",
      "i 2\n",
      "s 3\n",
      "  4\n",
      "i 5\n",
      "s 6\n",
      "  7\n",
      "a 8\n",
      "  9\n",
      "p 10\n",
      "r 11\n",
      "e 12\n",
      "t 13\n",
      "t 14\n",
      "y 15\n",
      "  16\n",
      "l 17\n",
      "o 18\n",
      "n 19\n",
      "g 20\n",
      "  21\n",
      "s 22\n",
      "t 23\n",
      "r 24\n",
      "i 25\n",
      "n 26\n",
      "g 27\n",
      "  28\n",
      "t 29\n",
      "h 30\n",
      "a 31\n",
      "t 32\n",
      "  33\n",
      "w 34\n",
      "o 35\n",
      "u 36\n",
      "l 37\n",
      "d 38\n",
      "  39\n",
      "b 40\n",
      "e 41\n",
      "  42\n",
      "h 43\n",
      "a 44\n",
      "r 45\n",
      "d 46\n",
      "  47\n",
      "t 48\n",
      "o 49\n",
      "  50\n",
      "i 51\n",
      "n 52\n",
      "d 53\n",
      "e 54\n",
      "x 55\n",
      "  56\n",
      "b 57\n",
      "y 58\n",
      "  59\n",
      "h 60\n",
      "a 61\n",
      "n 62\n",
      "d 63\n"
     ]
    }
   ],
   "source": [
    "c=0 #For loop that automatically indexes strings, probably also works with lists\n",
    "for i in string_1:\n",
    "    print(i,c)\n",
    "    c+=1"
   ]
  },
  {
   "cell_type": "code",
   "execution_count": 107,
   "metadata": {},
   "outputs": [
    {
     "name": "stdout",
     "output_type": "stream",
     "text": [
      "e 0\n",
      "d 1\n",
      "c 2\n",
      "b 3\n",
      "a 4\n"
     ]
    }
   ],
   "source": [
    "c=0 #For loop that automatically indexes strings, probably also works with lists\n",
    "for i in list1:\n",
    "    print(i,c)\n",
    "    c+=1"
   ]
  },
  {
   "cell_type": "code",
   "execution_count": 108,
   "metadata": {},
   "outputs": [
    {
     "name": "stdout",
     "output_type": "stream",
     "text": [
      "7\n"
     ]
    }
   ],
   "source": [
    "numlist = [4, -2, 5] #for loop that sums a list of numbers\n",
    "total = 0\n",
    "for num in numlist:\n",
    "    total = total + num\n",
    "print(total)"
   ]
  },
  {
   "cell_type": "code",
   "execution_count": 109,
   "metadata": {},
   "outputs": [
    {
     "name": "stdout",
     "output_type": "stream",
     "text": [
      "2.3333333333333335\n"
     ]
    }
   ],
   "source": [
    "numlist = [4, -2, 5] #for loop that sums a list of numbers and then creates an average\n",
    "total = 0\n",
    "for num in numlist:\n",
    "    total = total + num\n",
    "print(total/len(numlist))"
   ]
  },
  {
   "cell_type": "code",
   "execution_count": 110,
   "metadata": {},
   "outputs": [
    {
     "name": "stdout",
     "output_type": "stream",
     "text": [
      "a\n",
      "y\n",
      "i\n"
     ]
    }
   ],
   "source": [
    "vowels = 'aeiouy' #for loop that checks if letters in a string are vowels\n",
    "word   = 'anything'\n",
    "for letter in word:\n",
    "    if letter in vowels:\n",
    "        print(letter)"
   ]
  },
  {
   "cell_type": "code",
   "execution_count": 111,
   "metadata": {},
   "outputs": [
    {
     "name": "stdout",
     "output_type": "stream",
     "text": [
      "n\n",
      "t\n",
      "h\n",
      "n\n",
      "g\n"
     ]
    }
   ],
   "source": [
    "vowels = 'aeiouy' #for loop that checks if letters in a string are consonants\n",
    "word   = 'anything'\n",
    "for letter in word:\n",
    "    if letter not in vowels:\n",
    "        print(letter)"
   ]
  },
  {
   "cell_type": "code",
   "execution_count": 112,
   "metadata": {},
   "outputs": [
    {
     "name": "stdout",
     "output_type": "stream",
     "text": [
      "Number and its square: 1 1\n",
      "Number and its square: 2 4\n",
      "Number and its square: 3 9\n",
      "Number and its square: 4 16\n",
      "Number and its square: 5 25\n",
      "Number and its square: 6 36\n",
      "Number and its square: 7 49\n",
      "Number and its square: 8 64\n",
      "Number and its square: 9 81\n",
      "Number and its square: 10 100\n"
     ]
    }
   ],
   "source": [
    "for number in range(1, 11): #for loop that prints a number and its square. Illustrates the range function in action\n",
    "    square = number**2\n",
    "    print('Number and its square:', number, square)"
   ]
  },
  {
   "cell_type": "code",
   "execution_count": 113,
   "metadata": {},
   "outputs": [
    {
     "name": "stdout",
     "output_type": "stream",
     "text": [
      "55\n"
     ]
    }
   ],
   "source": [
    "total = 0 #for loop making a sum from a range\n",
    "for num in range(1, 11):\n",
    "    total = total + num\n",
    "print(total)"
   ]
  },
  {
   "cell_type": "code",
   "execution_count": 114,
   "metadata": {},
   "outputs": [
    {
     "name": "stdout",
     "output_type": "stream",
     "text": [
      "At num = 14 we had total = 105\n"
     ]
    }
   ],
   "source": [
    "#Loops with conditions. The break command can be used to break loops when a condition is met\n",
    "maxnum = 20             # guess of number above our limit\n",
    "\n",
    "total = 0\n",
    "for num in range(maxnum):\n",
    "    total = total + num\n",
    "    if total > 100:\n",
    "        break              # exit loop\n",
    "print('At num =', num, 'we had total =', total)"
   ]
  },
  {
   "cell_type": "code",
   "execution_count": 115,
   "metadata": {},
   "outputs": [],
   "source": [
    "#break is a special command that ends a loop early."
   ]
  },
  {
   "cell_type": "markdown",
   "metadata": {},
   "source": [
    "we can create lists (and do related things) using implicit loops that we refer to as list comprehensions. \"Implicit loops\" essentially means that they are doing the same thing as a loop, but that the syntax is more compact. This shows up a lot in Python code."
   ]
  },
  {
   "cell_type": "code",
   "execution_count": 116,
   "metadata": {},
   "outputs": [],
   "source": [
    "#List comprehension examples"
   ]
  },
  {
   "cell_type": "code",
   "execution_count": 117,
   "metadata": {},
   "outputs": [
    {
     "name": "stdout",
     "output_type": "stream",
     "text": [
      "Chase\n",
      "Dave\n",
      "Sarah\n",
      "Spencer\n"
     ]
    }
   ],
   "source": [
    "namelist = ['Chase', 'Dave', 'Sarah', 'Spencer']\n",
    "for item in namelist:\n",
    "    print(item)"
   ]
  },
  {
   "cell_type": "code",
   "execution_count": 118,
   "metadata": {},
   "outputs": [
    {
     "name": "stdout",
     "output_type": "stream",
     "text": [
      "Chase\n",
      "Dave\n",
      "Sarah\n",
      "Spencer\n"
     ]
    },
    {
     "data": {
      "text/plain": [
       "[None, None, None, None]"
      ]
     },
     "execution_count": 118,
     "metadata": {},
     "output_type": "execute_result"
    }
   ],
   "source": [
    "[print(item) for item in namelist]"
   ]
  },
  {
   "cell_type": "code",
   "execution_count": 119,
   "metadata": {},
   "outputs": [
    {
     "data": {
      "text/plain": [
       "['Chase', 'Dave', 'Sarah', 'Spencer']"
      ]
     },
     "execution_count": 119,
     "metadata": {},
     "output_type": "execute_result"
    }
   ],
   "source": [
    "[item for item in namelist]"
   ]
  },
  {
   "cell_type": "code",
   "execution_count": 120,
   "metadata": {},
   "outputs": [],
   "source": [
    "fruit = ['apple', 'banana', 'clementine']"
   ]
  },
  {
   "cell_type": "code",
   "execution_count": 121,
   "metadata": {},
   "outputs": [],
   "source": [
    "FRUIT = [item.upper() for item in fruit]"
   ]
  },
  {
   "cell_type": "code",
   "execution_count": 122,
   "metadata": {},
   "outputs": [
    {
     "data": {
      "text/plain": [
       "['APPLE', 'BANANA', 'CLEMENTINE']"
      ]
     },
     "execution_count": 122,
     "metadata": {},
     "output_type": "execute_result"
    }
   ],
   "source": [
    "FRUIT"
   ]
  },
  {
   "cell_type": "code",
   "execution_count": 123,
   "metadata": {},
   "outputs": [],
   "source": [
    "fruit6 = [item for item in fruit if len(item)<=6]"
   ]
  },
  {
   "cell_type": "code",
   "execution_count": 124,
   "metadata": {},
   "outputs": [
    {
     "data": {
      "text/plain": [
       "['apple', 'banana']"
      ]
     },
     "execution_count": 124,
     "metadata": {},
     "output_type": "execute_result"
    }
   ],
   "source": [
    "fruit6"
   ]
  },
  {
   "cell_type": "code",
   "execution_count": 125,
   "metadata": {},
   "outputs": [],
   "source": [
    "g = [0.02, 0.07, 0.07]"
   ]
  },
  {
   "cell_type": "code",
   "execution_count": 128,
   "metadata": {},
   "outputs": [],
   "source": [
    "percent_growth = [round(dec*100,1) for dec in g]"
   ]
  },
  {
   "cell_type": "code",
   "execution_count": 129,
   "metadata": {},
   "outputs": [
    {
     "data": {
      "text/plain": [
       "[2.0, 7.0, 7.0]"
      ]
     },
     "execution_count": 129,
     "metadata": {},
     "output_type": "execute_result"
    }
   ],
   "source": [
    "percent_growth"
   ]
  },
  {
   "cell_type": "code",
   "execution_count": 130,
   "metadata": {},
   "outputs": [],
   "source": [
    "#defining functions"
   ]
  },
  {
   "cell_type": "code",
   "execution_count": 132,
   "metadata": {},
   "outputs": [
    {
     "name": "stdout",
     "output_type": "stream",
     "text": [
      "Hello, Chase\n"
     ]
    }
   ],
   "source": [
    "#def a very simple function that gives no storable output (meaning it needs no return function)\n",
    "def hello(firstname):               # define the function\n",
    "    print('Hello,', firstname)\n",
    "hello('Chase')                      # use the function"
   ]
  },
  {
   "cell_type": "code",
   "execution_count": 133,
   "metadata": {},
   "outputs": [
    {
     "name": "stdout",
     "output_type": "stream",
     "text": [
      "The square is 49\n"
     ]
    }
   ],
   "source": [
    "def squareme(number): #function with a return, used in practice\n",
    "    \"\"\"\n",
    "    Takes numerical input and returns its square\n",
    "    \"\"\"\n",
    "    return number**2        # this is what the function sends back\n",
    "\n",
    "square = squareme(7)        # assign the \"return\" to variable on left\n",
    "print('The square is', square)"
   ]
  },
  {
   "cell_type": "code",
   "execution_count": 134,
   "metadata": {},
   "outputs": [
    {
     "name": "stdout",
     "output_type": "stream",
     "text": [
      "Coleman, Chase\n"
     ]
    }
   ],
   "source": [
    "def combine(first, last): #functino combining the first and last names\n",
    "    \"\"\"\n",
    "    Takes strings 'first' and 'last' and returns new string 'last, first'\n",
    "    \"\"\"\n",
    "    lastfirst = last + ', ' + first\n",
    "    return lastfirst                    # this is what the function sends back\n",
    "\n",
    "both = combine('Chase', 'Coleman')      # assign the \"return\" to both\n",
    "print(both) "
   ]
  },
  {
   "cell_type": "markdown",
   "metadata": {},
   "source": [
    "This is a key component of python, which is an object oriented programming language. What does that mean? For us this means that every thing is really an object with associated methods and attributes. A method is like a function that already togo with the given object. Methods in python are always completed with () . Attributes are go-to-go attributes about the object that can be accessed easily. What this means is that there are simple built-in ways to get information and perform operations on objects without having to write our on functions. A typical example is the dict() object which has methods to grab its keys and values, etc.\n",
    "\n",
    "Functions and methods differ primarily in their syntax:\n",
    "\n",
    "Syntax of a function: function(object)\n",
    "\n",
    "Syntax of a method: object.method()\n",
    "\n",
    "Syntax of a attribute: object.attribute"
   ]
  },
  {
   "cell_type": "markdown",
   "metadata": {},
   "source": [
    "There are methods and attributes that do many, many things. For those not covered in lectures, we can look them up using tab completion or stack overflow"
   ]
  },
  {
   "cell_type": "markdown",
   "metadata": {},
   "source": [
    "## Class 5 - September 19th - Python Fundamentals 1 Recitation"
   ]
  },
  {
   "cell_type": "code",
   "execution_count": 135,
   "metadata": {},
   "outputs": [],
   "source": [
    "bicycles = []\n",
    "#setting an empty list"
   ]
  },
  {
   "cell_type": "code",
   "execution_count": 136,
   "metadata": {},
   "outputs": [
    {
     "name": "stdout",
     "output_type": "stream",
     "text": [
      "My first bicycle was a cannondale.\n"
     ]
    }
   ],
   "source": [
    "#We can extract specific values from a list and use them in other functions\n",
    "bicycles = ['trek','cannondale','redline','specialized']\n",
    "message = \"My first bicycle was a \" + bicycles[1] + '.'\n",
    "print(message)"
   ]
  },
  {
   "cell_type": "code",
   "execution_count": 137,
   "metadata": {},
   "outputs": [
    {
     "name": "stdout",
     "output_type": "stream",
     "text": [
      "['ducati', 'yamaha', 'suzuki']\n"
     ]
    }
   ],
   "source": [
    "motorcycles = ['honda','yamaha','suzuki']\n",
    "motorcycles[0] = 'ducati'\n",
    "print(motorcycles)\n",
    "#this will replace a specific entry in a list"
   ]
  },
  {
   "cell_type": "code",
   "execution_count": 138,
   "metadata": {},
   "outputs": [
    {
     "name": "stdout",
     "output_type": "stream",
     "text": [
      "['ducati', 'yamaha', 'suzuki', 'honda']\n"
     ]
    }
   ],
   "source": [
    "#adding items to the list, always adds to the end of the list\n",
    "motorcycles.append('honda')\n",
    "print(motorcycles)"
   ]
  },
  {
   "cell_type": "code",
   "execution_count": 139,
   "metadata": {},
   "outputs": [
    {
     "name": "stdout",
     "output_type": "stream",
     "text": [
      "['yamaha', 'ducati', 'yamaha', 'suzuki', 'honda']\n"
     ]
    }
   ],
   "source": [
    "#Insterting elements at a specific position (will do so before the entry currently in that position)\n",
    "motorcycles.insert(0, 'yamaha')\n",
    "print(motorcycles)"
   ]
  },
  {
   "cell_type": "code",
   "execution_count": 140,
   "metadata": {},
   "outputs": [
    {
     "name": "stdout",
     "output_type": "stream",
     "text": [
      "['yamaha', 'ducati', 'yamaha', 'suzuki', 'honda']\n",
      "['ducati', 'yamaha', 'suzuki', 'honda']\n",
      "['yamaha', 'suzuki', 'honda']\n"
     ]
    }
   ],
   "source": [
    "#removing elements. You can use the remove function (which you must use if all you know is the value), \n",
    "# or if you know the position of the item you can use the del function\n",
    "print(motorcycles)\n",
    "del motorcycles[0]\n",
    "print(motorcycles)\n",
    "motorcycles.remove('ducati')\n",
    "print(motorcycles)"
   ]
  },
  {
   "cell_type": "code",
   "execution_count": 141,
   "metadata": {},
   "outputs": [
    {
     "name": "stdout",
     "output_type": "stream",
     "text": [
      "['bmw', 'audi', 'toyota', 'subaru']\n",
      "['audi', 'bmw', 'subaru', 'toyota']\n"
     ]
    }
   ],
   "source": [
    "#Sorting a list. The .sort function will change the order of the list permanenetly\n",
    "\n",
    "cars = ['bmw','audi','toyota','subaru']\n",
    "print(cars)\n",
    "cars.sort()\n",
    "print(cars)"
   ]
  },
  {
   "cell_type": "code",
   "execution_count": 143,
   "metadata": {},
   "outputs": [
    {
     "name": "stdout",
     "output_type": "stream",
     "text": [
      "['toyota', 'subaru', 'bmw', 'audi']\n"
     ]
    }
   ],
   "source": [
    "#This will reverse the sort order of the list\n",
    "cars.sort(reverse=True)\n",
    "print(cars)"
   ]
  },
  {
   "cell_type": "code",
   "execution_count": 144,
   "metadata": {},
   "outputs": [
    {
     "name": "stdout",
     "output_type": "stream",
     "text": [
      "['audi', 'bmw', 'subaru', 'toyota']\n",
      "['toyota', 'subaru', 'bmw', 'audi']\n"
     ]
    }
   ],
   "source": [
    "#We can use the sorted function to temporarily look at what a sorted function looks like\n",
    "print(sorted(cars))\n",
    "print(cars)\n",
    "#You could save the sorted list to a new variable to maintain the original list and have the sorted list"
   ]
  },
  {
   "cell_type": "code",
   "execution_count": 145,
   "metadata": {},
   "outputs": [
    {
     "name": "stdout",
     "output_type": "stream",
     "text": [
      "['toyota', 'subaru', 'bmw']\n"
     ]
    }
   ],
   "source": [
    "#we can also use the pop function to remove things from the list\n",
    "cars.pop(3)\n",
    "print(cars)"
   ]
  },
  {
   "cell_type": "code",
   "execution_count": 146,
   "metadata": {},
   "outputs": [],
   "source": [
    "#creating dictionaries and adding items\n",
    "\n",
    "superheroes = {} #making a blank dictionary\n",
    "\n",
    "#adding (key,value) pairs to a dictionary\n",
    "superheroes['batman'] = 'bruce wayne'\n",
    "superheroes['superman'] = 'clark gable'"
   ]
  },
  {
   "cell_type": "code",
   "execution_count": 147,
   "metadata": {},
   "outputs": [
    {
     "name": "stdout",
     "output_type": "stream",
     "text": [
      "{'batman': 'bruce wayne', 'superman': 'clark kent'}\n"
     ]
    },
    {
     "data": {
      "text/plain": [
       "2"
      ]
     },
     "execution_count": 147,
     "metadata": {},
     "output_type": "execute_result"
    }
   ],
   "source": [
    "#we can update a value by simply reassigning it using the same formula as above\n",
    "superheroes['superman'] = 'clark kent'\n",
    "print(superheroes)\n",
    "#counting the number of keys\n",
    "len(superheroes)"
   ]
  },
  {
   "cell_type": "code",
   "execution_count": 148,
   "metadata": {},
   "outputs": [
    {
     "name": "stdout",
     "output_type": "stream",
     "text": [
      "{'batman': 'bruce wayne'}\n"
     ]
    }
   ],
   "source": [
    "#removing key,value pairs from a dictionary\n",
    "del superheroes['superman']\n",
    "print(superheroes)"
   ]
  },
  {
   "cell_type": "code",
   "execution_count": 150,
   "metadata": {},
   "outputs": [
    {
     "name": "stdout",
     "output_type": "stream",
     "text": [
      "{'batman': 'bruce wayne', 'supermain': 'clark kent'}\n"
     ]
    }
   ],
   "source": [
    "superheroes['superman'] = 'clark kent'\n",
    "#modifying keys\n",
    "superheroes['supermain']= superheroes['superman'] #write out the new key first, then followed by the one you are replacing\n",
    "del superheroes['superman'] #we must delete the previous key as well, otherwise it will show up\n",
    "print(superheroes)"
   ]
  },
  {
   "cell_type": "code",
   "execution_count": 151,
   "metadata": {},
   "outputs": [
    {
     "data": {
      "text/plain": [
       "dict_items([('batman', 'bruce wayne'), ('supermain', 'clark kent')])"
      ]
     },
     "execution_count": 151,
     "metadata": {},
     "output_type": "execute_result"
    }
   ],
   "source": [
    "#Get a list containing all paris in the dictionary\n",
    "#Reminder: Dictionaries are not ordered\n",
    "\n",
    "superheroes.items() #shows the items in the dictionary as a list"
   ]
  },
  {
   "cell_type": "code",
   "execution_count": 152,
   "metadata": {},
   "outputs": [
    {
     "data": {
      "text/plain": [
       "False"
      ]
     },
     "execution_count": 152,
     "metadata": {},
     "output_type": "execute_result"
    }
   ],
   "source": [
    "# check if a key is in the dictionary\n",
    "\n",
    "'james bond'in superheroes #gives a true or fales depending on if the prompt is a key in that dictionary"
   ]
  },
  {
   "cell_type": "code",
   "execution_count": 154,
   "metadata": {},
   "outputs": [
    {
     "name": "stdout",
     "output_type": "stream",
     "text": [
      "dict_keys(['batman', 'supermain'])\n",
      "dict_values(['bruce wayne', 'clark kent'])\n"
     ]
    }
   ],
   "source": [
    "#listing all the keys or values in a dictionary\n",
    "\n",
    "print(superheroes.keys())\n",
    "print(superheroes.values())"
   ]
  },
  {
   "cell_type": "code",
   "execution_count": 155,
   "metadata": {},
   "outputs": [
    {
     "name": "stdout",
     "output_type": "stream",
     "text": [
      "{'alice': {'Age': '21', 'Semester': 'Fall 2018', 'Gender': 'F'}}\n"
     ]
    }
   ],
   "source": [
    "#Nested Dictionaries\n",
    "student = {}\n",
    "student['alice'] = {'Age':'21','Semester':'Fall 2018','Gender':'F'}\n",
    "print(student)"
   ]
  },
  {
   "cell_type": "code",
   "execution_count": 157,
   "metadata": {},
   "outputs": [
    {
     "data": {
      "text/plain": [
       "'21'"
      ]
     },
     "execution_count": 157,
     "metadata": {},
     "output_type": "execute_result"
    }
   ],
   "source": [
    "student['alice']['Age'] #using keys in the nested dictionaries to narrow the search. Also works for slicing indexes of nested lists \n",
    "#If one of the elements is a list we can also narrow by list item like student['alice']['subject'][0]"
   ]
  },
  {
   "cell_type": "markdown",
   "metadata": {},
   "source": [
    "### the tuple:\n",
    "- tuple is similar to list\n",
    "- However, tuple is a sequence immutable objects, that we cannot modify the value once it has been created"
   ]
  },
  {
   "cell_type": "code",
   "execution_count": 158,
   "metadata": {},
   "outputs": [
    {
     "data": {
      "text/plain": [
       "tuple"
      ]
     },
     "execution_count": 158,
     "metadata": {},
     "output_type": "execute_result"
    }
   ],
   "source": [
    "# using parenthesis to build up a empty tuple\n",
    "tuple_empty = ()\n",
    "type(tuple_empty)"
   ]
  },
  {
   "cell_type": "code",
   "execution_count": 159,
   "metadata": {},
   "outputs": [
    {
     "name": "stdout",
     "output_type": "stream",
     "text": [
      "('one', 'two', 'three', 'four')\n"
     ]
    }
   ],
   "source": [
    "# created empty tuple, just like list and dictionary but with parentheses\n",
    "tuple_ex = ('one','two','three','four')\n",
    "print(tuple_ex)"
   ]
  },
  {
   "cell_type": "code",
   "execution_count": 160,
   "metadata": {},
   "outputs": [
    {
     "data": {
      "text/plain": [
       "4"
      ]
     },
     "execution_count": 160,
     "metadata": {},
     "output_type": "execute_result"
    }
   ],
   "source": [
    "# check the lenght of tuple\n",
    "len(tuple_ex)"
   ]
  },
  {
   "cell_type": "code",
   "execution_count": 161,
   "metadata": {},
   "outputs": [
    {
     "ename": "TypeError",
     "evalue": "'tuple' object does not support item assignment",
     "output_type": "error",
     "traceback": [
      "\u001b[1;31m---------------------------------------------------------------------------\u001b[0m",
      "\u001b[1;31mTypeError\u001b[0m                                 Traceback (most recent call last)",
      "\u001b[1;32m<ipython-input-161-27f1bad1f860>\u001b[0m in \u001b[0;36m<module>\u001b[1;34m()\u001b[0m\n\u001b[0;32m      1\u001b[0m \u001b[1;31m# immutability of tuples\u001b[0m\u001b[1;33m\u001b[0m\u001b[1;33m\u001b[0m\u001b[0m\n\u001b[1;32m----> 2\u001b[1;33m \u001b[0mtuple_ex\u001b[0m\u001b[1;33m[\u001b[0m\u001b[1;36m0\u001b[0m\u001b[1;33m]\u001b[0m \u001b[1;33m=\u001b[0m \u001b[1;34m'1'\u001b[0m\u001b[1;33m\u001b[0m\u001b[0m\n\u001b[0m",
      "\u001b[1;31mTypeError\u001b[0m: 'tuple' object does not support item assignment"
     ]
    }
   ],
   "source": [
    "# immutability of tuples\n",
    "tuple_ex[0] = '1'"
   ]
  },
  {
   "cell_type": "code",
   "execution_count": 162,
   "metadata": {},
   "outputs": [
    {
     "name": "stdout",
     "output_type": "stream",
     "text": [
      "('one', 'two', 'three', 'four', '1', '2', '3', '4')\n"
     ]
    }
   ],
   "source": [
    "# can we append value to tuple, just like list? Yes.\n",
    "# we don't modify the value\n",
    "tuple_ex2=('1','2','3','4')\n",
    "tuple_append = tuple_ex + tuple_ex2\n",
    "print(tuple_append)"
   ]
  },
  {
   "cell_type": "code",
   "execution_count": 163,
   "metadata": {},
   "outputs": [
    {
     "name": "stdout",
     "output_type": "stream",
     "text": [
      "('4', '3', '2', '1')\n",
      "False\n"
     ]
    }
   ],
   "source": [
    "# use slice to inverse the tuple\n",
    "tuple_ex2_reverse = tuple_ex2[::-1] \n",
    "print(tuple_ex2_reverse)\n",
    "# does the order matter? Yes\n",
    "print(tuple_ex2_reverse == tuple_ex2)"
   ]
  },
  {
   "cell_type": "code",
   "execution_count": 165,
   "metadata": {},
   "outputs": [
    {
     "name": "stdout",
     "output_type": "stream",
     "text": [
      "('one', 'two', 'three', 'four', '1', '2', '3', '4')\n"
     ]
    },
    {
     "data": {
      "text/plain": [
       "['one', 'two', 'three', 'four', '1', '2', '3', '4']"
      ]
     },
     "execution_count": 165,
     "metadata": {},
     "output_type": "execute_result"
    }
   ],
   "source": [
    "# since list and tuple all are seqence of value, can we convert them to each other?\n",
    "# can we convert list to tuple? Yes\n",
    "print(tuple(['one', 'two', 'three', 'four', '1', '2', '3', '4']))\n",
    "# can we convert tuple to list? Yes\n",
    "list(tuple_append)"
   ]
  },
  {
   "cell_type": "code",
   "execution_count": 166,
   "metadata": {},
   "outputs": [
    {
     "name": "stdout",
     "output_type": "stream",
     "text": [
      "one\n",
      "two\n",
      "three\n",
      "four\n"
     ]
    }
   ],
   "source": [
    "# tuple unpack, 4 elements\n",
    "first, second, third, fourth = tuple_ex\n",
    "print(first)\n",
    "print(second)\n",
    "print(third)\n",
    "print(fourth)"
   ]
  },
  {
   "cell_type": "code",
   "execution_count": 167,
   "metadata": {},
   "outputs": [],
   "source": [
    "# tuple unpack, 4 elements, use * Asterisk\n",
    "first, second,  *rest= tuple_ex"
   ]
  },
  {
   "cell_type": "code",
   "execution_count": 168,
   "metadata": {},
   "outputs": [
    {
     "name": "stdout",
     "output_type": "stream",
     "text": [
      "one\n",
      "two\n",
      "['three', 'four']\n"
     ]
    }
   ],
   "source": [
    "print(first)\n",
    "print(second)\n",
    "print(rest)"
   ]
  },
  {
   "cell_type": "markdown",
   "metadata": {},
   "source": [
    "slice syntax with brackets and colon: [start : end(not inclueded) : increment]"
   ]
  },
  {
   "cell_type": "code",
   "execution_count": 169,
   "metadata": {},
   "outputs": [
    {
     "name": "stdout",
     "output_type": "stream",
     "text": [
      "four\n",
      "('one', 'two', 'three')\n",
      "('one', 'three')\n",
      "('one', 'two', 'three', 'four')\n",
      "('one', 'two', 'three', 'four')\n"
     ]
    }
   ],
   "source": [
    "# slice the tuple to get the value, just like the list\n",
    "print(tuple_ex[-1])\n",
    "print(tuple_ex[0:3])\n",
    "print(tuple_ex[0:3:2])\n",
    "# the last comma is optional\n",
    "print(tuple_ex[:])\n",
    "print(tuple_ex[::])"
   ]
  },
  {
   "cell_type": "code",
   "execution_count": 170,
   "metadata": {},
   "outputs": [
    {
     "data": {
      "text/plain": [
       "{'five', 'four', 'one', 'three', 'two'}"
      ]
     },
     "execution_count": 170,
     "metadata": {},
     "output_type": "execute_result"
    }
   ],
   "source": [
    "#sets are dictionaries with only keys\n",
    "set_example = {'one', 'two', 'three', 'four'}\n",
    "set_example.add('five')\n",
    "set_example"
   ]
  },
  {
   "cell_type": "code",
   "execution_count": null,
   "metadata": {},
   "outputs": [],
   "source": [
    "%%timeit #complicated for loop\n",
    "e = []\n",
    "for i in range(10**4) :\n",
    "\n",
    "    for j in range(i,10**4):\n",
    "\n",
    "            if i==j:\n",
    "                e.append(i+j)\n",
    "            else:\n",
    "                e.append((i,j))"
   ]
  },
  {
   "cell_type": "code",
   "execution_count": null,
   "metadata": {},
   "outputs": [],
   "source": [
    "%%timeit #complicated list comprehension doing the same thing\n",
    "d = [(i+j) if i==j else (i,j) for i in range(10**4) for j in range(i,10**4)]"
   ]
  },
  {
   "cell_type": "markdown",
   "metadata": {},
   "source": [
    "## Class 6 - September 24th - Python Fundamentals 2 Recitation"
   ]
  },
  {
   "cell_type": "code",
   "execution_count": 175,
   "metadata": {},
   "outputs": [
    {
     "data": {
      "text/plain": [
       "False"
      ]
     },
     "execution_count": 175,
     "metadata": {},
     "output_type": "execute_result"
    }
   ],
   "source": [
    "#Ignoring Case When Checking for Equality\n",
    "#case sensitive by default\n",
    "##Testing for equality is case sensitive in Python\n",
    "\n",
    "\n",
    "car = 'Audi'\n",
    "\n",
    "car == 'audi'"
   ]
  },
  {
   "cell_type": "code",
   "execution_count": 176,
   "metadata": {},
   "outputs": [
    {
     "data": {
      "text/plain": [
       "True"
      ]
     },
     "execution_count": 176,
     "metadata": {},
     "output_type": "execute_result"
    }
   ],
   "source": [
    "##lower fucntion to convert the variables values to lower case for comparison\n",
    "\n",
    "car.lower() == 'audi'"
   ]
  },
  {
   "cell_type": "code",
   "execution_count": 177,
   "metadata": {},
   "outputs": [
    {
     "data": {
      "text/plain": [
       "True"
      ]
     },
     "execution_count": 177,
     "metadata": {},
     "output_type": "execute_result"
    }
   ],
   "source": [
    "##use the != sign to check for inequality\n",
    "pizza_topping  = 'mushrooms'\n",
    "pizza_topping!= 'cheese'"
   ]
  },
  {
   "cell_type": "code",
   "execution_count": 181,
   "metadata": {},
   "outputs": [],
   "source": [
    "##using 'and' to check multiple conditions\n",
    "age_1  = 21\n",
    "passport_1 = 'Yes'\n",
    "\n",
    "\n",
    "age_2 = 25\n",
    "passport_2 = 'No'"
   ]
  },
  {
   "cell_type": "code",
   "execution_count": 182,
   "metadata": {},
   "outputs": [
    {
     "data": {
      "text/plain": [
       "True"
      ]
     },
     "execution_count": 182,
     "metadata": {},
     "output_type": "execute_result"
    }
   ],
   "source": [
    "age_1 >= 21 and passport_1  == 'Yes'"
   ]
  },
  {
   "cell_type": "code",
   "execution_count": 183,
   "metadata": {},
   "outputs": [
    {
     "data": {
      "text/plain": [
       "False"
      ]
     },
     "execution_count": 183,
     "metadata": {},
     "output_type": "execute_result"
    }
   ],
   "source": [
    "##even if one of the check fails , entire check fails  --- > this is the importance of the and keyword.\n",
    "\n",
    "age_2 >= 21 and passport_2 == 'Yes'"
   ]
  },
  {
   "cell_type": "code",
   "execution_count": 184,
   "metadata": {},
   "outputs": [
    {
     "data": {
      "text/plain": [
       "True"
      ]
     },
     "execution_count": 184,
     "metadata": {},
     "output_type": "execute_result"
    }
   ],
   "source": [
    "##using or to check multiple conditions\n",
    "gre_score_1 = 320\n",
    "\n",
    "gpa_1 = 3.2\n",
    "\n",
    "gre_score_2 = 304\n",
    "\n",
    "gpa_2 = 3.7\n",
    "\n",
    "gre_score_1 >= 315 or gpa_1 > 3.5"
   ]
  },
  {
   "cell_type": "code",
   "execution_count": 185,
   "metadata": {},
   "outputs": [
    {
     "data": {
      "text/plain": [
       "True"
      ]
     },
     "execution_count": 185,
     "metadata": {},
     "output_type": "execute_result"
    }
   ],
   "source": [
    "gre_score_2 >= 315 or gpa_2 > 3.5"
   ]
  },
  {
   "cell_type": "code",
   "execution_count": 186,
   "metadata": {},
   "outputs": [
    {
     "data": {
      "text/plain": [
       "True"
      ]
     },
     "execution_count": 186,
     "metadata": {},
     "output_type": "execute_result"
    }
   ],
   "source": [
    "## in keyword checks if a value is there in a list or not\n",
    "pizza_top = ['cheese', 'mushrooms', 'chicken']\n",
    "'cheese' in pizza_top"
   ]
  },
  {
   "cell_type": "code",
   "execution_count": 187,
   "metadata": {},
   "outputs": [
    {
     "name": "stdout",
     "output_type": "stream",
     "text": [
      "Adding mushrooms.\n",
      "Adding extra cheese.\n",
      "\n",
      "Finished making your pizza!\n"
     ]
    }
   ],
   "source": [
    "##However, sometimes it’s important to check all of the conditions of interest. \n",
    "##In this case, you should use a series of simple if statements with no elif or else blocks.\n",
    "requested_toppings = ['mushrooms', 'extra cheese']\n",
    "\n",
    "\n",
    "if 'mushrooms' in requested_toppings: \n",
    "    print(\"Adding mushrooms.\")\n",
    "    \n",
    "if 'pepperoni' in requested_toppings: \n",
    "    print(\"Adding pepperoni.\")\n",
    "    \n",
    "if 'extra cheese' in requested_toppings: \n",
    "    print(\"Adding extra cheese.\")\n",
    "    \n",
    "    \n",
    "print(\"\\nFinished making your pizza!\")"
   ]
  },
  {
   "cell_type": "code",
   "execution_count": 189,
   "metadata": {},
   "outputs": [
    {
     "name": "stdout",
     "output_type": "stream",
     "text": [
      "['Oscar-nominee get out', 'Oscar-nominee dunkirk', 'Oscar-nominee ladybird', 'Oscar-nominee darkest hour', 'Oscar-nominee call me by your name', 'Oscar-nominee the shape of water']\n"
     ]
    }
   ],
   "source": [
    "# to create a modified list in a for loop, you create a new empty list and add the modified values to it:\n",
    "oscar_movies = ['get out', 'dunkirk', 'ladybird', 'darkest hour', 'call me by your name', 'the shape of water']\n",
    "modified_oscar_movies = [] # create new empty list where we will store the modified values\n",
    "\n",
    "for movie in oscar_movies: # we iterate over the original list\n",
    "    modified_movie = 'Oscar-nominee %s' % movie #using %s to call a string\n",
    "    modified_oscar_movies.append(modified_movie) # .append() the modified values to the new list we just created \n",
    "    \n",
    "# finally, remember to replace the original list with the newly created one\n",
    "oscar_movies = modified_oscar_movies\n",
    "\n",
    "print(oscar_movies)"
   ]
  },
  {
   "cell_type": "code",
   "execution_count": 192,
   "metadata": {},
   "outputs": [
    {
     "name": "stdout",
     "output_type": "stream",
     "text": [
      "Olympia is the capital of Washington!\n",
      "Sacramento is the capital of California!\n",
      "Albany is the capital of New York!\n",
      "Tallahassee is the capital of Florida!\n"
     ]
    }
   ],
   "source": [
    "# using a for loop with a dictionary:\n",
    "\n",
    "\n",
    "# key is the state, value is the city\n",
    "state_capitals = {'Washington': 'Olympia', 'California': 'Sacramento', 'New York': 'Albany', 'Florida': 'Tallahassee'}\n",
    "\n",
    "# print a sentence using each of the (key, value) pairs in our dictionary\n",
    "#%s with dictionary\n",
    "for state in state_capitals.keys():\n",
    "    print(\"%s is the capital of %s!\" % (state_capitals[state], state))  "
   ]
  },
  {
   "cell_type": "code",
   "execution_count": 193,
   "metadata": {},
   "outputs": [],
   "source": [
    "#There are other items from this recitation like deep copying that we never covered in any other space. \n",
    "#Know that it is there just in case"
   ]
  },
  {
   "cell_type": "markdown",
   "metadata": {},
   "source": [
    "## Class 7 - September 26th - Python Fundamentals 3"
   ]
  },
  {
   "cell_type": "code",
   "execution_count": 194,
   "metadata": {},
   "outputs": [],
   "source": [
    "#Clock function\n",
    "def clock(h,m):\n",
    "    h_angle = (h*30) + (m*.5)\n",
    "    m_angle = (m*6)\n",
    "    if abs(h_angle - m_angle) <= 180:\n",
    "        angle = abs(h_angle - m_angle)\n",
    "    else:\n",
    "        angle = 360 - abs(h_angle - m_angle)\n",
    "    \n",
    "    return(angle)"
   ]
  },
  {
   "cell_type": "code",
   "execution_count": 195,
   "metadata": {},
   "outputs": [],
   "source": [
    "#packages - numpy\n",
    "import numpy as np"
   ]
  },
  {
   "cell_type": "code",
   "execution_count": 196,
   "metadata": {},
   "outputs": [
    {
     "data": {
      "text/plain": [
       "2.302585092994046"
      ]
     },
     "execution_count": 196,
     "metadata": {},
     "output_type": "execute_result"
    }
   ],
   "source": [
    "#some basic numpy methods, square root and log\n",
    "np.sqrt(10)\n",
    "np.log(10)"
   ]
  },
  {
   "cell_type": "code",
   "execution_count": 197,
   "metadata": {},
   "outputs": [],
   "source": [
    "#numpy arrays\n",
    "ar = np.array([3,4,5,6]) #making an array using the array method"
   ]
  },
  {
   "cell_type": "code",
   "execution_count": 198,
   "metadata": {},
   "outputs": [
    {
     "data": {
      "text/plain": [
       "array([3, 4, 5, 6])"
      ]
     },
     "execution_count": 198,
     "metadata": {},
     "output_type": "execute_result"
    }
   ],
   "source": [
    "ar"
   ]
  },
  {
   "cell_type": "code",
   "execution_count": 199,
   "metadata": {},
   "outputs": [],
   "source": [
    "#actions on arrays"
   ]
  },
  {
   "cell_type": "code",
   "execution_count": 200,
   "metadata": {},
   "outputs": [
    {
     "data": {
      "text/plain": [
       "6"
      ]
     },
     "execution_count": 200,
     "metadata": {},
     "output_type": "execute_result"
    }
   ],
   "source": [
    "ar.max()"
   ]
  },
  {
   "cell_type": "code",
   "execution_count": 201,
   "metadata": {},
   "outputs": [
    {
     "data": {
      "text/plain": [
       "array([1.73205081, 2.        , 2.23606798, 2.44948974])"
      ]
     },
     "execution_count": 201,
     "metadata": {},
     "output_type": "execute_result"
    }
   ],
   "source": [
    "np.sqrt(ar)"
   ]
  },
  {
   "cell_type": "code",
   "execution_count": 204,
   "metadata": {},
   "outputs": [
    {
     "data": {
      "text/plain": [
       "(4,)"
      ]
     },
     "execution_count": 204,
     "metadata": {},
     "output_type": "execute_result"
    }
   ],
   "source": [
    "ar.shape #shape attribute shows dimensions. In this case its a 1x4 but because we did not define it as a matrix, it reads as 4"
   ]
  },
  {
   "cell_type": "code",
   "execution_count": 205,
   "metadata": {},
   "outputs": [],
   "source": [
    "ar2 = np.array([[2,3,4],[11,5,6]]) #The extra set of brackets is how you define it as a matrix in numpy. \n",
    "#We can even do this for one row of data"
   ]
  },
  {
   "cell_type": "code",
   "execution_count": 206,
   "metadata": {},
   "outputs": [
    {
     "data": {
      "text/plain": [
       "array([[ 2,  3,  4],\n",
       "       [11,  5,  6]])"
      ]
     },
     "execution_count": 206,
     "metadata": {},
     "output_type": "execute_result"
    }
   ],
   "source": [
    "ar2"
   ]
  },
  {
   "cell_type": "code",
   "execution_count": 207,
   "metadata": {},
   "outputs": [
    {
     "data": {
      "text/plain": [
       "(2, 3)"
      ]
     },
     "execution_count": 207,
     "metadata": {},
     "output_type": "execute_result"
    }
   ],
   "source": [
    "ar2.shape"
   ]
  },
  {
   "cell_type": "code",
   "execution_count": 208,
   "metadata": {},
   "outputs": [
    {
     "data": {
      "text/plain": [
       "array([[ 2, 11],\n",
       "       [ 3,  5],\n",
       "       [ 4,  6]])"
      ]
     },
     "execution_count": 208,
     "metadata": {},
     "output_type": "execute_result"
    }
   ],
   "source": [
    "ar2.T #transpose numpy array"
   ]
  },
  {
   "cell_type": "code",
   "execution_count": 209,
   "metadata": {},
   "outputs": [
    {
     "data": {
      "text/plain": [
       "array([[ 6,  9, 12],\n",
       "       [33, 15, 18]])"
      ]
     },
     "execution_count": 209,
     "metadata": {},
     "output_type": "execute_result"
    }
   ],
   "source": [
    "ar2*3 #broadcasting, multiplies everything in an array by a value in numpy"
   ]
  },
  {
   "cell_type": "code",
   "execution_count": 210,
   "metadata": {},
   "outputs": [
    {
     "data": {
      "text/plain": [
       "(3, 2)"
      ]
     },
     "execution_count": 210,
     "metadata": {},
     "output_type": "execute_result"
    }
   ],
   "source": [
    "ar2.T.shape #we can layer the methods and attributes"
   ]
  },
  {
   "cell_type": "code",
   "execution_count": 212,
   "metadata": {},
   "outputs": [
    {
     "name": "stdout",
     "output_type": "stream",
     "text": [
      "Wall time: 0 ns\n"
     ]
    },
    {
     "data": {
      "text/plain": [
       "array([[ 6,  9, 12],\n",
       "       [33, 15, 18]])"
      ]
     },
     "execution_count": 212,
     "metadata": {},
     "output_type": "execute_result"
    }
   ],
   "source": [
    "%%time \n",
    "#tells one how long it takes to run a function\n",
    "ar2*3"
   ]
  },
  {
   "cell_type": "code",
   "execution_count": 213,
   "metadata": {},
   "outputs": [],
   "source": [
    "#Importing pandas\n",
    "import pandas as pd"
   ]
  },
  {
   "cell_type": "markdown",
   "metadata": {},
   "source": [
    "The word package here refers to plug-ins or extensions that expand Python's capabilities. Terminology varies. What we call a package others sometimes call a \"library.\" The term \"module\" typically refers to a subset of core Python or one of its packages. You won't go far wrong to use the terms interchangeably."
   ]
  },
  {
   "cell_type": "markdown",
   "metadata": {},
   "source": [
    "Some of the leading packages for numerical (\"scientific\") computation are\n",
    "\n",
    "​Pandas. The leading package for managing data\n",
    "\n",
    "​Matplotlib. The leading graphics package. We'll use it extensively.\n",
    "\n",
    "​NumPy. Tools for numerical computing. In Excel the basic unit is a cell, a single number. In NumPy the basic unit is a vector (a column) or matrix (a table or worksheet), which allows us to do things with an entire column or table in one line. This facility carries over to Pandas."
   ]
  },
  {
   "cell_type": "markdown",
   "metadata": {},
   "source": [
    "from xyz import foo\n",
    "\n",
    "This imports the foo function directly so it can be called with foo()"
   ]
  },
  {
   "cell_type": "markdown",
   "metadata": {},
   "source": [
    "from xyz import *. This imports all the functions and methods from the package xyz, but here the function foo is executed simply by typing foo. We don't usually do this, because it opens up the possibility that the same function exists in more than one package, which is virtually guaranteed to create confusion."
   ]
  },
  {
   "cell_type": "code",
   "execution_count": 214,
   "metadata": {},
   "outputs": [],
   "source": [
    "#Always do this importation\n",
    "import pandas as pd                  # data package\n",
    "import matplotlib.pyplot as plt      # graphics package"
   ]
  },
  {
   "cell_type": "code",
   "execution_count": 215,
   "metadata": {},
   "outputs": [
    {
     "name": "stdout",
     "output_type": "stream",
     "text": [
      "Pandas version  0.23.0\n"
     ]
    }
   ],
   "source": [
    "#checking pandas version number to assess errors\n",
    "import pandas as pd\n",
    "print('Pandas version ', pd.__version__)       # these are double underscores"
   ]
  },
  {
   "cell_type": "code",
   "execution_count": 216,
   "metadata": {},
   "outputs": [],
   "source": [
    "#There is a section in the book on conda and pip which we did not cover in class, just know they are there in the packages chapter"
   ]
  },
  {
   "cell_type": "code",
   "execution_count": 217,
   "metadata": {},
   "outputs": [],
   "source": [
    "data1 = [3.4,2,7,1,5]\n",
    "arr1 = np.array(data1)\n",
    "data2 = [5,2,1,3,4]\n",
    "arr2 = np.array(data2)"
   ]
  },
  {
   "cell_type": "code",
   "execution_count": 219,
   "metadata": {},
   "outputs": [
    {
     "data": {
      "text/plain": [
       "array([8.4, 4. , 8. , 4. , 9. ])"
      ]
     },
     "execution_count": 219,
     "metadata": {},
     "output_type": "execute_result"
    }
   ],
   "source": [
    "arr1 + arr2 #We can add arrays"
   ]
  },
  {
   "cell_type": "code",
   "execution_count": 220,
   "metadata": {},
   "outputs": [
    {
     "data": {
      "text/plain": [
       "array([17.,  4.,  7.,  3., 20.])"
      ]
     },
     "execution_count": 220,
     "metadata": {},
     "output_type": "execute_result"
    }
   ],
   "source": [
    "arr1*arr2 #We can multiply the terms in two arrays by respective terms in the other array"
   ]
  },
  {
   "cell_type": "code",
   "execution_count": 221,
   "metadata": {},
   "outputs": [
    {
     "data": {
      "text/plain": [
       "array([[0., 0., 0.],\n",
       "       [0., 0., 0.]])"
      ]
     },
     "execution_count": 221,
     "metadata": {},
     "output_type": "execute_result"
    }
   ],
   "source": [
    "arrZeros = np.zeros((2,3)) #method to create a 2x3 array with zeroes\n",
    "arrZeros"
   ]
  },
  {
   "cell_type": "code",
   "execution_count": 222,
   "metadata": {},
   "outputs": [
    {
     "data": {
      "text/plain": [
       "array([[1., 1.],\n",
       "       [1., 1.]])"
      ]
     },
     "execution_count": 222,
     "metadata": {},
     "output_type": "execute_result"
    }
   ],
   "source": [
    "arrOnes = np.ones((2,2)) #method to create a 2x2 array with ones\n",
    "arrOnes"
   ]
  },
  {
   "cell_type": "code",
   "execution_count": 223,
   "metadata": {},
   "outputs": [
    {
     "data": {
      "text/plain": [
       "array([[1., 0., 0.],\n",
       "       [0., 1., 0.],\n",
       "       [0., 0., 1.]])"
      ]
     },
     "execution_count": 223,
     "metadata": {},
     "output_type": "execute_result"
    }
   ],
   "source": [
    "arrEyes = np.eye(3) #method to create a 3x3 identity matrix\n",
    "arrEyes"
   ]
  },
  {
   "cell_type": "code",
   "execution_count": 227,
   "metadata": {},
   "outputs": [
    {
     "data": {
      "text/plain": [
       "array([0, 2, 4, 6, 8])"
      ]
     },
     "execution_count": 227,
     "metadata": {},
     "output_type": "execute_result"
    }
   ],
   "source": [
    "np.arange(0,10,2) #creates an array over a range (start,stop,increment)"
   ]
  },
  {
   "cell_type": "code",
   "execution_count": 229,
   "metadata": {},
   "outputs": [
    {
     "data": {
      "text/plain": [
       "array([5.4, 4. , 9. , 3. , 7. ])"
      ]
     },
     "execution_count": 229,
     "metadata": {},
     "output_type": "execute_result"
    }
   ],
   "source": [
    "arr3 = arr1+2 #broadcasting works with addition as well\n",
    "arr3"
   ]
  },
  {
   "cell_type": "code",
   "execution_count": 230,
   "metadata": {},
   "outputs": [],
   "source": [
    "np.eye?"
   ]
  },
  {
   "cell_type": "code",
   "execution_count": 231,
   "metadata": {},
   "outputs": [
    {
     "data": {
      "text/plain": [
       "array([[0., 2., 2.],\n",
       "       [2., 0., 2.],\n",
       "       [2., 2., 0.]])"
      ]
     },
     "execution_count": 231,
     "metadata": {},
     "output_type": "execute_result"
    }
   ],
   "source": [
    "(arrEyes+2)-arrEyes*3"
   ]
  },
  {
   "cell_type": "code",
   "execution_count": 232,
   "metadata": {},
   "outputs": [
    {
     "data": {
      "text/plain": [
       "array([[2, 3, 4],\n",
       "       [8, 5, 7]])"
      ]
     },
     "execution_count": 232,
     "metadata": {},
     "output_type": "execute_result"
    }
   ],
   "source": [
    "#Slicing arrays\n",
    "arr4=np.array([[2,3,4],[8,5,7]])\n",
    "arr4"
   ]
  },
  {
   "cell_type": "code",
   "execution_count": 233,
   "metadata": {},
   "outputs": [
    {
     "data": {
      "text/plain": [
       "3"
      ]
     },
     "execution_count": 233,
     "metadata": {},
     "output_type": "execute_result"
    }
   ],
   "source": [
    "arr4[0,1] #slicing by row then column"
   ]
  },
  {
   "cell_type": "code",
   "execution_count": 238,
   "metadata": {},
   "outputs": [
    {
     "data": {
      "text/plain": [
       "numpy.int32"
      ]
     },
     "execution_count": 238,
     "metadata": {},
     "output_type": "execute_result"
    }
   ],
   "source": [
    "arr4[0][1] #slicing a row then a column"
   ]
  },
  {
   "cell_type": "code",
   "execution_count": 240,
   "metadata": {},
   "outputs": [
    {
     "data": {
      "text/plain": [
       "array([3])"
      ]
     },
     "execution_count": 240,
     "metadata": {},
     "output_type": "execute_result"
    }
   ],
   "source": [
    "arr4[0,1:2] #ranges still work when slicing arrays, interestingly this way will maintain the array typing"
   ]
  },
  {
   "cell_type": "code",
   "execution_count": 241,
   "metadata": {},
   "outputs": [
    {
     "data": {
      "text/plain": [
       "29"
      ]
     },
     "execution_count": 241,
     "metadata": {},
     "output_type": "execute_result"
    }
   ],
   "source": [
    "#methods on arrays or arraywise operations\n",
    "np.sum(arr4) #sums all entries in an array \n"
   ]
  },
  {
   "cell_type": "code",
   "execution_count": 242,
   "metadata": {},
   "outputs": [
    {
     "data": {
      "text/plain": [
       "array([10,  8, 11])"
      ]
     },
     "execution_count": 242,
     "metadata": {},
     "output_type": "execute_result"
    }
   ],
   "source": [
    "np.sum(arr4,axis=0) # Column Sum for arrays"
   ]
  },
  {
   "cell_type": "code",
   "execution_count": 243,
   "metadata": {},
   "outputs": [
    {
     "data": {
      "text/plain": [
       "array([ 9, 20])"
      ]
     },
     "execution_count": 243,
     "metadata": {},
     "output_type": "execute_result"
    }
   ],
   "source": [
    "np.sum(arr4,axis=1) # Row Sum for arrays"
   ]
  },
  {
   "cell_type": "code",
   "execution_count": 244,
   "metadata": {},
   "outputs": [
    {
     "data": {
      "text/plain": [
       "array([[ 0.53702806, -0.68846137, -0.953181  ,  1.38573204],\n",
       "       [ 0.67044901, -1.91569487, -0.24557095,  1.50351237]])"
      ]
     },
     "execution_count": 244,
     "metadata": {},
     "output_type": "execute_result"
    }
   ],
   "source": [
    "np.random.randn(2,4) #random number generation over a normal distribution for an array of a given shape, in this case 2x4"
   ]
  },
  {
   "cell_type": "markdown",
   "metadata": {},
   "source": [
    "## Class 8 - October 1 - Python Fundamentals 3 Recitation"
   ]
  },
  {
   "cell_type": "code",
   "execution_count": 245,
   "metadata": {},
   "outputs": [],
   "source": [
    "#for loop with if statement and boolean to assess the best asset from a list of lists\n",
    "portfolio = [['IBM',0.0005],['S&P 500',0.001],['Citi',-0.015],['Facebook',-0.04],['Apple',0.0035]]\n",
    "\n",
    "best_asset = ''\n",
    "best_return = -100  # the worst return\n",
    "for equity in portfolio:\n",
    "    equity_name = equity[0]  # take out the name\n",
    "    equity_return = equity[1]   # take out the return\n",
    "    \n",
    "    if equity_return>best_return:  # if return is better, we update the name\n",
    "        best_asset = equity_name\n",
    "        best_return = equity_return"
   ]
  },
  {
   "cell_type": "code",
   "execution_count": 246,
   "metadata": {},
   "outputs": [
    {
     "name": "stdout",
     "output_type": "stream",
     "text": [
      "Apple\n",
      "0.0035\n"
     ]
    }
   ],
   "source": [
    "print(best_asset)\n",
    "print(best_return)"
   ]
  },
  {
   "cell_type": "code",
   "execution_count": 247,
   "metadata": {},
   "outputs": [],
   "source": [
    "#Using list comprehensions to do the same thing\n",
    "list_name = [equity[0] for equity in portfolio]\n",
    "list_return = [equity[1] for equity in portfolio]"
   ]
  },
  {
   "cell_type": "code",
   "execution_count": 248,
   "metadata": {},
   "outputs": [],
   "source": [
    "best_return = max(list_return)\n",
    "best_asset_pos = list_return.index(best_return)"
   ]
  },
  {
   "cell_type": "code",
   "execution_count": 249,
   "metadata": {},
   "outputs": [
    {
     "data": {
      "text/plain": [
       "[(1, 0), (2, 0), (2, 1), (3, 0), (3, 1), (3, 2)]"
      ]
     },
     "execution_count": 249,
     "metadata": {},
     "output_type": "execute_result"
    }
   ],
   "source": [
    "#List comprehension for nested for loop\n",
    "[(i, j) for i in range(4) for j in range(i)]"
   ]
  },
  {
   "cell_type": "code",
   "execution_count": 250,
   "metadata": {},
   "outputs": [
    {
     "data": {
      "text/plain": [
       "[(2, 0), (2, 1)]"
      ]
     },
     "execution_count": 250,
     "metadata": {},
     "output_type": "execute_result"
    }
   ],
   "source": [
    "#list comprehension with filtering\n",
    "[(i, j) for i in range(4) for j in range(i) if i%2==0]"
   ]
  },
  {
   "cell_type": "code",
   "execution_count": 251,
   "metadata": {},
   "outputs": [
    {
     "data": {
      "text/plain": [
       "['Too small', (2, 0), 'Too small', (3, 0), (3, 1), 'Too small']"
      ]
     },
     "execution_count": 251,
     "metadata": {},
     "output_type": "execute_result"
    }
   ],
   "source": [
    "#List comprehension with if else conditional statements\n",
    "[(i, j) if i-j>1 else 'Too small' for i in range(4) for j in range(i)]"
   ]
  },
  {
   "cell_type": "code",
   "execution_count": 252,
   "metadata": {},
   "outputs": [],
   "source": [
    "#more numpy methods"
   ]
  },
  {
   "cell_type": "code",
   "execution_count": 254,
   "metadata": {},
   "outputs": [
    {
     "data": {
      "text/plain": [
       "array([[7, 6, 3],\n",
       "       [8, 5, 0],\n",
       "       [8, 5, 0]])"
      ]
     },
     "execution_count": 254,
     "metadata": {},
     "output_type": "execute_result"
    }
   ],
   "source": [
    "# Create a 3x3 array of random integers in the interval [0, 10)\n",
    "rando = np.random.randint(0, 10, (3, 3))\n",
    "rando"
   ]
  },
  {
   "cell_type": "code",
   "execution_count": 255,
   "metadata": {},
   "outputs": [
    {
     "data": {
      "text/plain": [
       "2"
      ]
     },
     "execution_count": 255,
     "metadata": {},
     "output_type": "execute_result"
    }
   ],
   "source": [
    "#says the dimension of the array. Note, do not confuse with the matrix size.\n",
    "rando.ndim"
   ]
  },
  {
   "cell_type": "code",
   "execution_count": 256,
   "metadata": {},
   "outputs": [
    {
     "data": {
      "text/plain": [
       "array([[9, 6, 3],\n",
       "       [8, 5, 0],\n",
       "       [8, 5, 0]])"
      ]
     },
     "execution_count": 256,
     "metadata": {},
     "output_type": "execute_result"
    }
   ],
   "source": [
    "#Values can also be modified using index notation\n",
    "\n",
    "rando[0,0] = 9\n",
    "rando"
   ]
  },
  {
   "cell_type": "code",
   "execution_count": 258,
   "metadata": {},
   "outputs": [
    {
     "data": {
      "text/plain": [
       "array([[3],\n",
       "       [0]])"
      ]
     },
     "execution_count": 258,
     "metadata": {},
     "output_type": "execute_result"
    }
   ],
   "source": [
    "#general slicing syntax for arrays\n",
    "#array[start:stop:step]\n",
    "##Multi-dimensional slices work in the same way, with multiple slices separated by commas\n",
    "rando[0:2,2:]"
   ]
  },
  {
   "cell_type": "code",
   "execution_count": 259,
   "metadata": {},
   "outputs": [
    {
     "data": {
      "text/plain": [
       "array([[8, 5, 0],\n",
       "       [8, 5, 0],\n",
       "       [9, 6, 3]])"
      ]
     },
     "execution_count": 259,
     "metadata": {},
     "output_type": "execute_result"
    }
   ],
   "source": [
    "#selecting all rows in reverse in an array\n",
    "\n",
    "rando[::-1,]"
   ]
  },
  {
   "cell_type": "code",
   "execution_count": 260,
   "metadata": {},
   "outputs": [
    {
     "data": {
      "text/plain": [
       "array([[3, 6, 9],\n",
       "       [0, 5, 8],\n",
       "       [0, 5, 8]])"
      ]
     },
     "execution_count": 260,
     "metadata": {},
     "output_type": "execute_result"
    }
   ],
   "source": [
    "#selecting all the columns in reverse in an array\n",
    "rando[::,::-1]"
   ]
  },
  {
   "cell_type": "code",
   "execution_count": 261,
   "metadata": {},
   "outputs": [
    {
     "data": {
      "text/plain": [
       "array([[9],\n",
       "       [6],\n",
       "       [3],\n",
       "       [8],\n",
       "       [5],\n",
       "       [0],\n",
       "       [8],\n",
       "       [5],\n",
       "       [0]])"
      ]
     },
     "execution_count": 261,
     "metadata": {},
     "output_type": "execute_result"
    }
   ],
   "source": [
    "## reshaping arrays\n",
    "\n",
    "##use reshape method\n",
    "\n",
    "##the size of the initial array must match the size of the reshaped array\n",
    "rando.reshape(9,1)  "
   ]
  },
  {
   "cell_type": "code",
   "execution_count": 262,
   "metadata": {},
   "outputs": [
    {
     "data": {
      "text/plain": [
       "array([1, 2, 3, 3, 2, 1])"
      ]
     },
     "execution_count": 262,
     "metadata": {},
     "output_type": "execute_result"
    }
   ],
   "source": [
    "##Array Concatenation for 1 dimensional arrays\n",
    "x = np.array([1, 2, 3])\n",
    "y = np.array([3, 2, 1])\n",
    "np.concatenate([x, y])"
   ]
  },
  {
   "cell_type": "code",
   "execution_count": 263,
   "metadata": {},
   "outputs": [
    {
     "data": {
      "text/plain": [
       "array([[1, 2, 3],\n",
       "       [4, 5, 6],\n",
       "       [1, 2, 3],\n",
       "       [4, 5, 6]])"
      ]
     },
     "execution_count": 263,
     "metadata": {},
     "output_type": "execute_result"
    }
   ],
   "source": [
    "#Array concatenation for 2 dimensional arrays\n",
    "grid = np.array([[1, 2, 3],\n",
    "                 [4, 5, 6]])\n",
    "# concatenate along axis 0 i.e row\n",
    "np.concatenate([grid, grid])"
   ]
  },
  {
   "cell_type": "code",
   "execution_count": 264,
   "metadata": {},
   "outputs": [
    {
     "data": {
      "text/plain": [
       "array([[1, 2, 3, 1, 2, 3],\n",
       "       [4, 5, 6, 4, 5, 6]])"
      ]
     },
     "execution_count": 264,
     "metadata": {},
     "output_type": "execute_result"
    }
   ],
   "source": [
    "### concatenate along the axis 1, i.e column\n",
    "\n",
    "np.concatenate([grid, grid], axis=1)"
   ]
  },
  {
   "cell_type": "code",
   "execution_count": 265,
   "metadata": {},
   "outputs": [
    {
     "data": {
      "text/plain": [
       "3"
      ]
     },
     "execution_count": 265,
     "metadata": {},
     "output_type": "execute_result"
    }
   ],
   "source": [
    "np.max(x)"
   ]
  },
  {
   "cell_type": "code",
   "execution_count": 266,
   "metadata": {},
   "outputs": [
    {
     "data": {
      "text/plain": [
       "1"
      ]
     },
     "execution_count": 266,
     "metadata": {},
     "output_type": "execute_result"
    }
   ],
   "source": [
    "np.min(x)"
   ]
  },
  {
   "cell_type": "code",
   "execution_count": 267,
   "metadata": {},
   "outputs": [],
   "source": [
    "##Multi dimensional aggregates\n",
    "\n",
    "##One common type of aggregation operation is an aggregate along a row or column.\n",
    "\n",
    "p = np.random.randint(1, 15, (3,4))"
   ]
  },
  {
   "cell_type": "code",
   "execution_count": 268,
   "metadata": {},
   "outputs": [
    {
     "data": {
      "text/plain": [
       "array([[ 1,  4, 14,  1],\n",
       "       [ 6, 12,  9, 11],\n",
       "       [ 8, 12, 10,  2]])"
      ]
     },
     "execution_count": 268,
     "metadata": {},
     "output_type": "execute_result"
    }
   ],
   "source": [
    "p"
   ]
  },
  {
   "cell_type": "code",
   "execution_count": 269,
   "metadata": {},
   "outputs": [
    {
     "data": {
      "text/plain": [
       "array([ 8, 12, 14, 11])"
      ]
     },
     "execution_count": 269,
     "metadata": {},
     "output_type": "execute_result"
    }
   ],
   "source": [
    "#max from each column\n",
    "\n",
    "np.max(p, axis= 0)"
   ]
  },
  {
   "cell_type": "code",
   "execution_count": 270,
   "metadata": {},
   "outputs": [
    {
     "data": {
      "text/plain": [
       "array([14, 12, 12])"
      ]
     },
     "execution_count": 270,
     "metadata": {},
     "output_type": "execute_result"
    }
   ],
   "source": [
    "#max from each row\n",
    "\n",
    "np.max(p, axis=1)"
   ]
  },
  {
   "cell_type": "code",
   "execution_count": 271,
   "metadata": {},
   "outputs": [
    {
     "data": {
      "text/plain": [
       "56"
      ]
     },
     "execution_count": 271,
     "metadata": {},
     "output_type": "execute_result"
    }
   ],
   "source": [
    "np.prod(p[:1]) #product of a row"
   ]
  },
  {
   "cell_type": "code",
   "execution_count": 272,
   "metadata": {},
   "outputs": [
    {
     "data": {
      "text/plain": [
       "array([  56, 7128, 1920])"
      ]
     },
     "execution_count": 272,
     "metadata": {},
     "output_type": "execute_result"
    }
   ],
   "source": [
    "np.prod(p, axis = 1) #product of all rows"
   ]
  },
  {
   "cell_type": "code",
   "execution_count": 273,
   "metadata": {},
   "outputs": [],
   "source": [
    "#The recitation notes have an interesting section on boolean with arrays that we did not cover at any other point\n",
    "#I am not including it here."
   ]
  },
  {
   "cell_type": "markdown",
   "metadata": {},
   "source": [
    "## Homework 1"
   ]
  },
  {
   "cell_type": "code",
   "execution_count": 276,
   "metadata": {},
   "outputs": [
    {
     "data": {
      "text/plain": [
       "'Luke, I Am Your Father'"
      ]
     },
     "execution_count": 276,
     "metadata": {},
     "output_type": "execute_result"
    }
   ],
   "source": [
    "x = \"luke, i am your father\"\n",
    "x.title() #string method that capitalizes each word"
   ]
  },
  {
   "cell_type": "code",
   "execution_count": 277,
   "metadata": {},
   "outputs": [
    {
     "name": "stdout",
     "output_type": "stream",
     "text": [
      "['luke,', 'i', 'am', 'your', 'father']\n"
     ]
    }
   ],
   "source": [
    "# This code converts x into a list of the words in the original string, accomplishing part c\n",
    "x = x.split(sep=None)\n",
    "print(x)"
   ]
  },
  {
   "cell_type": "code",
   "execution_count": 278,
   "metadata": {},
   "outputs": [],
   "source": [
    "#The rest of the assignment was largely derivative of things we already covered"
   ]
  },
  {
   "cell_type": "code",
   "execution_count": null,
   "metadata": {},
   "outputs": [],
   "source": []
  }
 ],
 "metadata": {
  "kernelspec": {
   "display_name": "Python 3",
   "language": "python",
   "name": "python3"
  },
  "language_info": {
   "codemirror_mode": {
    "name": "ipython",
    "version": 3
   },
   "file_extension": ".py",
   "mimetype": "text/x-python",
   "name": "python",
   "nbconvert_exporter": "python",
   "pygments_lexer": "ipython3",
   "version": "3.6.5"
  }
 },
 "nbformat": 4,
 "nbformat_minor": 2
}
